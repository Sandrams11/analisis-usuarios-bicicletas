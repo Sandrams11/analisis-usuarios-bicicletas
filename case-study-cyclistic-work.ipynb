{
 "cells": [
  {
   "cell_type": "code",
   "execution_count": 1,
   "id": "c5cbc460",
   "metadata": {
    "_execution_state": "idle",
    "_uuid": "051d70d956493feee0c6d64651c6a088724dca2a",
    "execution": {
     "iopub.execute_input": "2024-09-25T16:09:06.464398Z",
     "iopub.status.busy": "2024-09-25T16:09:06.461936Z",
     "iopub.status.idle": "2024-09-25T16:09:07.686798Z",
     "shell.execute_reply": "2024-09-25T16:09:07.684770Z"
    },
    "papermill": {
     "duration": 1.242085,
     "end_time": "2024-09-25T16:09:07.689804",
     "exception": false,
     "start_time": "2024-09-25T16:09:06.447719",
     "status": "completed"
    },
    "tags": []
   },
   "outputs": [
    {
     "name": "stderr",
     "output_type": "stream",
     "text": [
      "── \u001b[1mAttaching core tidyverse packages\u001b[22m ──────────────────────── tidyverse 2.0.0 ──\n",
      "\u001b[32m✔\u001b[39m \u001b[34mdplyr    \u001b[39m 1.1.4     \u001b[32m✔\u001b[39m \u001b[34mreadr    \u001b[39m 2.1.5\n",
      "\u001b[32m✔\u001b[39m \u001b[34mforcats  \u001b[39m 1.0.0     \u001b[32m✔\u001b[39m \u001b[34mstringr  \u001b[39m 1.5.1\n",
      "\u001b[32m✔\u001b[39m \u001b[34mggplot2  \u001b[39m 3.5.1     \u001b[32m✔\u001b[39m \u001b[34mtibble   \u001b[39m 3.2.1\n",
      "\u001b[32m✔\u001b[39m \u001b[34mlubridate\u001b[39m 1.9.3     \u001b[32m✔\u001b[39m \u001b[34mtidyr    \u001b[39m 1.3.1\n",
      "\u001b[32m✔\u001b[39m \u001b[34mpurrr    \u001b[39m 1.0.2     \n"
     ]
    },
    {
     "name": "stderr",
     "output_type": "stream",
     "text": [
      "── \u001b[1mConflicts\u001b[22m ────────────────────────────────────────── tidyverse_conflicts() ──\n",
      "\u001b[31m✖\u001b[39m \u001b[34mdplyr\u001b[39m::\u001b[32mfilter()\u001b[39m masks \u001b[34mstats\u001b[39m::filter()\n",
      "\u001b[31m✖\u001b[39m \u001b[34mdplyr\u001b[39m::\u001b[32mlag()\u001b[39m    masks \u001b[34mstats\u001b[39m::lag()\n",
      "\u001b[36mℹ\u001b[39m Use the conflicted package (\u001b[3m\u001b[34m<http://conflicted.r-lib.org/>\u001b[39m\u001b[23m) to force all conflicts to become errors\n"
     ]
    },
    {
     "data": {
      "text/html": [
       "'case-study-cyclistic'"
      ],
      "text/latex": [
       "'case-study-cyclistic'"
      ],
      "text/markdown": [
       "'case-study-cyclistic'"
      ],
      "text/plain": [
       "[1] \"case-study-cyclistic\""
      ]
     },
     "metadata": {},
     "output_type": "display_data"
    }
   ],
   "source": [
    "# This R environment comes with many helpful analytics packages installed\n",
    "# It is defined by the kaggle/rstats Docker image: https://github.com/kaggle/docker-rstats\n",
    "# For example, here's a helpful package to load\n",
    "\n",
    "library(tidyverse) # metapackage of all tidyverse packages\n",
    "\n",
    "# Input data files are available in the read-only \"../input/\" directory\n",
    "# For example, running this (by clicking run or pressing Shift+Enter) will list all files under the input directory\n",
    "\n",
    "list.files(path = \"../input\")\n",
    "\n",
    "# You can write up to 20GB to the current directory (/kaggle/working/) that gets preserved as output when you create a version using \"Save & Run All\" \n",
    "# You can also write temporary files to /kaggle/temp/, but they won't be saved outside of the current session"
   ]
  },
  {
   "cell_type": "markdown",
   "id": "eced11ff",
   "metadata": {
    "papermill": {
     "duration": 0.012009,
     "end_time": "2024-09-25T16:09:07.713972",
     "exception": false,
     "start_time": "2024-09-25T16:09:07.701963",
     "status": "completed"
    },
    "tags": []
   },
   "source": [
    "Cyclistic Bike-share company case study.\n",
    "Data analyst report using R programming.\n",
    "\n",
    "PURPOSE:\n",
    "Identify the usage differences between casual users and members at the Cyclistic bike-share company.\n",
    "Cyclistic is a bike-share company at Chicago, Illinois. They have two types of memberships, annual membership or casual usage. As a goal of their new marketing strategy, they want to increase the number of annual members.\n",
    "\"How do annual members and casual riders use Cyclistic bikes differently?\" is the question that I have to answer as a junior data analyst.\n",
    "My initial hypothesis is that annual members are people who commute to work or to university, while casual users are tourists who want to explore the city by bike.\n",
    "\n",
    "First thing, we will set up the R environment and load the data."
   ]
  },
  {
   "cell_type": "code",
   "execution_count": 2,
   "id": "23e4273c",
   "metadata": {
    "execution": {
     "iopub.execute_input": "2024-09-25T16:09:07.773449Z",
     "iopub.status.busy": "2024-09-25T16:09:07.741217Z",
     "iopub.status.idle": "2024-09-25T16:12:08.151150Z",
     "shell.execute_reply": "2024-09-25T16:12:08.149340Z"
    },
    "papermill": {
     "duration": 180.426859,
     "end_time": "2024-09-25T16:12:08.154262",
     "exception": false,
     "start_time": "2024-09-25T16:09:07.727403",
     "status": "completed"
    },
    "tags": []
   },
   "outputs": [
    {
     "name": "stderr",
     "output_type": "stream",
     "text": [
      "Installing package into ‘/usr/local/lib/R/site-library’\n",
      "(as ‘lib’ is unspecified)\n",
      "\n"
     ]
    },
    {
     "name": "stderr",
     "output_type": "stream",
     "text": [
      "Warning message:\n",
      "“unable to access index for repository http://cran.rstudio.com/src/contrib:\n",
      "  cannot open URL 'http://cran.rstudio.com/src/contrib/PACKAGES'”\n"
     ]
    },
    {
     "name": "stderr",
     "output_type": "stream",
     "text": [
      "Warning message:\n",
      "“package ‘skimr’ is not available for this version of R\n",
      "\n",
      "A version of this package for your version of R might be available elsewhere,\n",
      "see the ideas at\n",
      "https://cran.r-project.org/doc/manuals/r-patched/R-admin.html#Installing-packages”\n"
     ]
    },
    {
     "name": "stderr",
     "output_type": "stream",
     "text": [
      "Installing package into ‘/usr/local/lib/R/site-library’\n",
      "(as ‘lib’ is unspecified)\n",
      "\n"
     ]
    },
    {
     "name": "stderr",
     "output_type": "stream",
     "text": [
      "Warning message:\n",
      "“unable to access index for repository http://cran.rstudio.com/src/contrib:\n",
      "  cannot open URL 'http://cran.rstudio.com/src/contrib/PACKAGES'”\n"
     ]
    },
    {
     "name": "stderr",
     "output_type": "stream",
     "text": [
      "Warning message:\n",
      "“package ‘dplyr’ is not available for this version of R\n",
      "\n",
      "A version of this package for your version of R might be available elsewhere,\n",
      "see the ideas at\n",
      "https://cran.r-project.org/doc/manuals/r-patched/R-admin.html#Installing-packages”\n"
     ]
    },
    {
     "name": "stderr",
     "output_type": "stream",
     "text": [
      "Installing package into ‘/usr/local/lib/R/site-library’\n",
      "(as ‘lib’ is unspecified)\n",
      "\n"
     ]
    },
    {
     "name": "stderr",
     "output_type": "stream",
     "text": [
      "Warning message:\n",
      "“unable to access index for repository http://cran.rstudio.com/src/contrib:\n",
      "  cannot open URL 'http://cran.rstudio.com/src/contrib/PACKAGES'”\n"
     ]
    },
    {
     "name": "stderr",
     "output_type": "stream",
     "text": [
      "Warning message:\n",
      "“package ‘ggplot2’ is not available for this version of R\n",
      "\n",
      "A version of this package for your version of R might be available elsewhere,\n",
      "see the ideas at\n",
      "https://cran.r-project.org/doc/manuals/r-patched/R-admin.html#Installing-packages”\n"
     ]
    }
   ],
   "source": [
    "install.packages(\"skimr\")\n",
    "install.packages(\"dplyr\")\n",
    "install.packages(\"ggplot2\")\n",
    "library(skimr)\n",
    "library(dplyr)\n",
    "library(lubridate)\n",
    "library(ggplot2)"
   ]
  },
  {
   "cell_type": "code",
   "execution_count": 3,
   "id": "cc3c11eb",
   "metadata": {
    "execution": {
     "iopub.execute_input": "2024-09-25T16:12:08.188987Z",
     "iopub.status.busy": "2024-09-25T16:12:08.187319Z",
     "iopub.status.idle": "2024-09-25T16:12:41.795830Z",
     "shell.execute_reply": "2024-09-25T16:12:41.793422Z"
    },
    "papermill": {
     "duration": 33.626726,
     "end_time": "2024-09-25T16:12:41.798800",
     "exception": false,
     "start_time": "2024-09-25T16:12:08.172074",
     "status": "completed"
    },
    "tags": []
   },
   "outputs": [
    {
     "name": "stderr",
     "output_type": "stream",
     "text": [
      "\u001b[1mRows: \u001b[22m\u001b[34m144873\u001b[39m \u001b[1mColumns: \u001b[22m\u001b[34m13\u001b[39m\n"
     ]
    },
    {
     "name": "stderr",
     "output_type": "stream",
     "text": [
      "\u001b[36m──\u001b[39m \u001b[1mColumn specification\u001b[22m \u001b[36m────────────────────────────────────────────────────────\u001b[39m\n",
      "\u001b[1mDelimiter:\u001b[22m \",\"\n",
      "\u001b[31mchr\u001b[39m  (7): ride_id, rideable_type, start_station_name, start_station_id, end_...\n",
      "\u001b[32mdbl\u001b[39m  (4): start_lat, start_lng, end_lat, end_lng\n",
      "\u001b[34mdttm\u001b[39m (2): started_at, ended_at\n"
     ]
    },
    {
     "name": "stderr",
     "output_type": "stream",
     "text": [
      "\n",
      "\u001b[36mℹ\u001b[39m Use `spec()` to retrieve the full column specification for this data.\n",
      "\u001b[36mℹ\u001b[39m Specify the column types or set `show_col_types = FALSE` to quiet this message.\n"
     ]
    },
    {
     "name": "stderr",
     "output_type": "stream",
     "text": [
      "\u001b[1mRows: \u001b[22m\u001b[34m223164\u001b[39m \u001b[1mColumns: \u001b[22m\u001b[34m13\u001b[39m\n"
     ]
    },
    {
     "name": "stderr",
     "output_type": "stream",
     "text": [
      "\u001b[36m──\u001b[39m \u001b[1mColumn specification\u001b[22m \u001b[36m────────────────────────────────────────────────────────\u001b[39m\n",
      "\u001b[1mDelimiter:\u001b[22m \",\"\n",
      "\u001b[31mchr\u001b[39m  (7): ride_id, rideable_type, start_station_name, start_station_id, end_...\n",
      "\u001b[32mdbl\u001b[39m  (4): start_lat, start_lng, end_lat, end_lng\n",
      "\u001b[34mdttm\u001b[39m (2): started_at, ended_at\n"
     ]
    },
    {
     "name": "stderr",
     "output_type": "stream",
     "text": [
      "\n",
      "\u001b[36mℹ\u001b[39m Use `spec()` to retrieve the full column specification for this data.\n",
      "\u001b[36mℹ\u001b[39m Specify the column types or set `show_col_types = FALSE` to quiet this message.\n"
     ]
    },
    {
     "name": "stderr",
     "output_type": "stream",
     "text": [
      "\u001b[1mRows: \u001b[22m\u001b[34m301687\u001b[39m \u001b[1mColumns: \u001b[22m\u001b[34m13\u001b[39m\n"
     ]
    },
    {
     "name": "stderr",
     "output_type": "stream",
     "text": [
      "\u001b[36m──\u001b[39m \u001b[1mColumn specification\u001b[22m \u001b[36m────────────────────────────────────────────────────────\u001b[39m\n",
      "\u001b[1mDelimiter:\u001b[22m \",\"\n",
      "\u001b[31mchr\u001b[39m  (7): ride_id, rideable_type, start_station_name, start_station_id, end_...\n",
      "\u001b[32mdbl\u001b[39m  (4): start_lat, start_lng, end_lat, end_lng\n",
      "\u001b[34mdttm\u001b[39m (2): started_at, ended_at\n"
     ]
    },
    {
     "name": "stderr",
     "output_type": "stream",
     "text": [
      "\n",
      "\u001b[36mℹ\u001b[39m Use `spec()` to retrieve the full column specification for this data.\n",
      "\u001b[36mℹ\u001b[39m Specify the column types or set `show_col_types = FALSE` to quiet this message.\n"
     ]
    },
    {
     "name": "stderr",
     "output_type": "stream",
     "text": [
      "\u001b[1mRows: \u001b[22m\u001b[34m415025\u001b[39m \u001b[1mColumns: \u001b[22m\u001b[34m13\u001b[39m\n"
     ]
    },
    {
     "name": "stderr",
     "output_type": "stream",
     "text": [
      "\u001b[36m──\u001b[39m \u001b[1mColumn specification\u001b[22m \u001b[36m────────────────────────────────────────────────────────\u001b[39m\n",
      "\u001b[1mDelimiter:\u001b[22m \",\"\n",
      "\u001b[31mchr\u001b[39m  (7): ride_id, rideable_type, start_station_name, start_station_id, end_...\n",
      "\u001b[32mdbl\u001b[39m  (4): start_lat, start_lng, end_lat, end_lng\n",
      "\u001b[34mdttm\u001b[39m (2): started_at, ended_at\n"
     ]
    },
    {
     "name": "stderr",
     "output_type": "stream",
     "text": [
      "\n",
      "\u001b[36mℹ\u001b[39m Use `spec()` to retrieve the full column specification for this data.\n",
      "\u001b[36mℹ\u001b[39m Specify the column types or set `show_col_types = FALSE` to quiet this message.\n"
     ]
    },
    {
     "name": "stderr",
     "output_type": "stream",
     "text": [
      "\u001b[1mRows: \u001b[22m\u001b[34m609493\u001b[39m \u001b[1mColumns: \u001b[22m\u001b[34m13\u001b[39m\n"
     ]
    },
    {
     "name": "stderr",
     "output_type": "stream",
     "text": [
      "\u001b[36m──\u001b[39m \u001b[1mColumn specification\u001b[22m \u001b[36m────────────────────────────────────────────────────────\u001b[39m\n",
      "\u001b[1mDelimiter:\u001b[22m \",\"\n",
      "\u001b[31mchr\u001b[39m  (7): ride_id, rideable_type, start_station_name, start_station_id, end_...\n",
      "\u001b[32mdbl\u001b[39m  (4): start_lat, start_lng, end_lat, end_lng\n",
      "\u001b[34mdttm\u001b[39m (2): started_at, ended_at\n"
     ]
    },
    {
     "name": "stderr",
     "output_type": "stream",
     "text": [
      "\n",
      "\u001b[36mℹ\u001b[39m Use `spec()` to retrieve the full column specification for this data.\n",
      "\u001b[36mℹ\u001b[39m Specify the column types or set `show_col_types = FALSE` to quiet this message.\n"
     ]
    },
    {
     "name": "stderr",
     "output_type": "stream",
     "text": [
      "\u001b[1mRows: \u001b[22m\u001b[34m719618\u001b[39m \u001b[1mColumns: \u001b[22m\u001b[34m13\u001b[39m\n"
     ]
    },
    {
     "name": "stderr",
     "output_type": "stream",
     "text": [
      "\u001b[36m──\u001b[39m \u001b[1mColumn specification\u001b[22m \u001b[36m────────────────────────────────────────────────────────\u001b[39m\n",
      "\u001b[1mDelimiter:\u001b[22m \",\"\n",
      "\u001b[31mchr\u001b[39m  (7): ride_id, rideable_type, start_station_name, start_station_id, end_...\n",
      "\u001b[32mdbl\u001b[39m  (4): start_lat, start_lng, end_lat, end_lng\n",
      "\u001b[34mdttm\u001b[39m (2): started_at, ended_at\n"
     ]
    },
    {
     "name": "stderr",
     "output_type": "stream",
     "text": [
      "\n",
      "\u001b[36mℹ\u001b[39m Use `spec()` to retrieve the full column specification for this data.\n",
      "\u001b[36mℹ\u001b[39m Specify the column types or set `show_col_types = FALSE` to quiet this message.\n"
     ]
    },
    {
     "name": "stderr",
     "output_type": "stream",
     "text": [
      "\u001b[1mRows: \u001b[22m\u001b[34m767650\u001b[39m \u001b[1mColumns: \u001b[22m\u001b[34m13\u001b[39m\n"
     ]
    },
    {
     "name": "stderr",
     "output_type": "stream",
     "text": [
      "\u001b[36m──\u001b[39m \u001b[1mColumn specification\u001b[22m \u001b[36m────────────────────────────────────────────────────────\u001b[39m\n",
      "\u001b[1mDelimiter:\u001b[22m \",\"\n",
      "\u001b[31mchr\u001b[39m  (7): ride_id, rideable_type, start_station_name, start_station_id, end_...\n",
      "\u001b[32mdbl\u001b[39m  (4): start_lat, start_lng, end_lat, end_lng\n",
      "\u001b[34mdttm\u001b[39m (2): started_at, ended_at\n"
     ]
    },
    {
     "name": "stderr",
     "output_type": "stream",
     "text": [
      "\n",
      "\u001b[36mℹ\u001b[39m Use `spec()` to retrieve the full column specification for this data.\n",
      "\u001b[36mℹ\u001b[39m Specify the column types or set `show_col_types = FALSE` to quiet this message.\n"
     ]
    },
    {
     "name": "stderr",
     "output_type": "stream",
     "text": [
      "\u001b[1mRows: \u001b[22m\u001b[34m771693\u001b[39m \u001b[1mColumns: \u001b[22m\u001b[34m13\u001b[39m\n"
     ]
    },
    {
     "name": "stderr",
     "output_type": "stream",
     "text": [
      "\u001b[36m──\u001b[39m \u001b[1mColumn specification\u001b[22m \u001b[36m────────────────────────────────────────────────────────\u001b[39m\n",
      "\u001b[1mDelimiter:\u001b[22m \",\"\n",
      "\u001b[31mchr\u001b[39m  (7): ride_id, rideable_type, start_station_name, start_station_id, end_...\n",
      "\u001b[32mdbl\u001b[39m  (4): start_lat, start_lng, end_lat, end_lng\n",
      "\u001b[34mdttm\u001b[39m (2): started_at, ended_at\n"
     ]
    },
    {
     "name": "stderr",
     "output_type": "stream",
     "text": [
      "\n",
      "\u001b[36mℹ\u001b[39m Use `spec()` to retrieve the full column specification for this data.\n",
      "\u001b[36mℹ\u001b[39m Specify the column types or set `show_col_types = FALSE` to quiet this message.\n"
     ]
    },
    {
     "name": "stderr",
     "output_type": "stream",
     "text": [
      "\u001b[1mRows: \u001b[22m\u001b[34m666371\u001b[39m \u001b[1mColumns: \u001b[22m\u001b[34m13\u001b[39m\n"
     ]
    },
    {
     "name": "stderr",
     "output_type": "stream",
     "text": [
      "\u001b[36m──\u001b[39m \u001b[1mColumn specification\u001b[22m \u001b[36m────────────────────────────────────────────────────────\u001b[39m\n",
      "\u001b[1mDelimiter:\u001b[22m \",\"\n",
      "\u001b[31mchr\u001b[39m  (7): ride_id, rideable_type, start_station_name, start_station_id, end_...\n",
      "\u001b[32mdbl\u001b[39m  (4): start_lat, start_lng, end_lat, end_lng\n",
      "\u001b[34mdttm\u001b[39m (2): started_at, ended_at\n"
     ]
    },
    {
     "name": "stderr",
     "output_type": "stream",
     "text": [
      "\n",
      "\u001b[36mℹ\u001b[39m Use `spec()` to retrieve the full column specification for this data.\n",
      "\u001b[36mℹ\u001b[39m Specify the column types or set `show_col_types = FALSE` to quiet this message.\n"
     ]
    },
    {
     "name": "stderr",
     "output_type": "stream",
     "text": [
      "\u001b[1mRows: \u001b[22m\u001b[34m537113\u001b[39m \u001b[1mColumns: \u001b[22m\u001b[34m13\u001b[39m\n"
     ]
    },
    {
     "name": "stderr",
     "output_type": "stream",
     "text": [
      "\u001b[36m──\u001b[39m \u001b[1mColumn specification\u001b[22m \u001b[36m────────────────────────────────────────────────────────\u001b[39m\n",
      "\u001b[1mDelimiter:\u001b[22m \",\"\n",
      "\u001b[31mchr\u001b[39m  (7): ride_id, rideable_type, start_station_name, start_station_id, end_...\n",
      "\u001b[32mdbl\u001b[39m  (4): start_lat, start_lng, end_lat, end_lng\n",
      "\u001b[34mdttm\u001b[39m (2): started_at, ended_at\n"
     ]
    },
    {
     "name": "stderr",
     "output_type": "stream",
     "text": [
      "\n",
      "\u001b[36mℹ\u001b[39m Use `spec()` to retrieve the full column specification for this data.\n",
      "\u001b[36mℹ\u001b[39m Specify the column types or set `show_col_types = FALSE` to quiet this message.\n"
     ]
    },
    {
     "name": "stderr",
     "output_type": "stream",
     "text": [
      "\u001b[1mRows: \u001b[22m\u001b[34m362518\u001b[39m \u001b[1mColumns: \u001b[22m\u001b[34m13\u001b[39m\n"
     ]
    },
    {
     "name": "stderr",
     "output_type": "stream",
     "text": [
      "\u001b[36m──\u001b[39m \u001b[1mColumn specification\u001b[22m \u001b[36m────────────────────────────────────────────────────────\u001b[39m\n",
      "\u001b[1mDelimiter:\u001b[22m \",\"\n",
      "\u001b[31mchr\u001b[39m  (7): ride_id, rideable_type, start_station_name, start_station_id, end_...\n",
      "\u001b[32mdbl\u001b[39m  (4): start_lat, start_lng, end_lat, end_lng\n",
      "\u001b[34mdttm\u001b[39m (2): started_at, ended_at\n"
     ]
    },
    {
     "name": "stderr",
     "output_type": "stream",
     "text": [
      "\n",
      "\u001b[36mℹ\u001b[39m Use `spec()` to retrieve the full column specification for this data.\n",
      "\u001b[36mℹ\u001b[39m Specify the column types or set `show_col_types = FALSE` to quiet this message.\n"
     ]
    },
    {
     "name": "stderr",
     "output_type": "stream",
     "text": [
      "\u001b[1mRows: \u001b[22m\u001b[34m224073\u001b[39m \u001b[1mColumns: \u001b[22m\u001b[34m13\u001b[39m\n"
     ]
    },
    {
     "name": "stderr",
     "output_type": "stream",
     "text": [
      "\u001b[36m──\u001b[39m \u001b[1mColumn specification\u001b[22m \u001b[36m────────────────────────────────────────────────────────\u001b[39m\n",
      "\u001b[1mDelimiter:\u001b[22m \",\"\n",
      "\u001b[31mchr\u001b[39m  (7): ride_id, rideable_type, start_station_name, start_station_id, end_...\n",
      "\u001b[32mdbl\u001b[39m  (4): start_lat, start_lng, end_lat, end_lng\n",
      "\u001b[34mdttm\u001b[39m (2): started_at, ended_at\n"
     ]
    },
    {
     "name": "stderr",
     "output_type": "stream",
     "text": [
      "\n",
      "\u001b[36mℹ\u001b[39m Use `spec()` to retrieve the full column specification for this data.\n",
      "\u001b[36mℹ\u001b[39m Specify the column types or set `show_col_types = FALSE` to quiet this message.\n"
     ]
    }
   ],
   "source": [
    "January24 <- read_csv(\"/kaggle/input/case-study-cyclistic/202401-divvy-tripdata.csv\")\n",
    "February24 <- read_csv(\"/kaggle/input/case-study-cyclistic/202402-divvy-tripdata.csv\")\n",
    "March24 <- read_csv(\"/kaggle/input/case-study-cyclistic/202403-divvy-tripdata.csv\")\n",
    "April24 <- read_csv(\"/kaggle/input/case-study-cyclistic/202404-divvy-tripdata.csv\")\n",
    "May24 <- read_csv(\"/kaggle/input/case-study-cyclistic/202405-divvy-tripdata.csv\")\n",
    "June23 <- read_csv(\"/kaggle/input/case-study-cyclistic/202306-divvy-tripdata.csv\")\n",
    "July23 <- read_csv(\"/kaggle/input/case-study-cyclistic/202307-divvy-tripdata.csv\")\n",
    "August23 <- read_csv(\"/kaggle/input/case-study-cyclistic/202308-divvy-tripdata.csv\")\n",
    "September23 <- read_csv(\"/kaggle/input/case-study-cyclistic/202309-divvy-tripdata.csv\")\n",
    "October23 <- read_csv(\"/kaggle/input/case-study-cyclistic/202310-divvy-tripdata.csv\")\n",
    "November23 <- read_csv(\"/kaggle/input/case-study-cyclistic/202311-divvy-tripdata.csv\")\n",
    "December23 <- read_csv(\"/kaggle/input/case-study-cyclistic/202312-divvy-tripdata.csv\")"
   ]
  },
  {
   "cell_type": "markdown",
   "id": "5d023706",
   "metadata": {
    "papermill": {
     "duration": 0.018032,
     "end_time": "2024-09-25T16:12:41.834674",
     "exception": false,
     "start_time": "2024-09-25T16:12:41.816642",
     "status": "completed"
    },
    "tags": []
   },
   "source": [
    "DATA CLEANING:\n",
    "Now, it is time to clean the data. As a first look we used google sheets to understand how data was used and what could be some of the missing values.\n",
    "This process will start by changing datatypes of columns ride_id and rideable_type from numeric to character type."
   ]
  },
  {
   "cell_type": "code",
   "execution_count": 4,
   "id": "b501a648",
   "metadata": {
    "execution": {
     "iopub.execute_input": "2024-09-25T16:12:41.874660Z",
     "iopub.status.busy": "2024-09-25T16:12:41.872865Z",
     "iopub.status.idle": "2024-09-25T16:12:41.940958Z",
     "shell.execute_reply": "2024-09-25T16:12:41.938889Z"
    },
    "papermill": {
     "duration": 0.090988,
     "end_time": "2024-09-25T16:12:41.943703",
     "exception": false,
     "start_time": "2024-09-25T16:12:41.852715",
     "status": "completed"
    },
    "tags": []
   },
   "outputs": [],
   "source": [
    "January24 <- mutate(January24, ride_id = as.character(ride_id), rideable_type = as.character(rideable_type))\n",
    "February24 <- mutate(February24, ride_id = as.character(ride_id), rideable_type = as.character(rideable_type))\n",
    "March24 <- mutate(March24, ride_id = as.character(ride_id), rideable_type = as.character(rideable_type))\n",
    "April24 <- mutate(April24, ride_id = as.character(ride_id), rideable_type = as.character(rideable_type))\n",
    "May24 <- mutate(May24, ride_id = as.character(ride_id), rideable_type = as.character(rideable_type))\n",
    "June23 <- mutate(June23, ride_id = as.character(ride_id), rideable_type = as.character(rideable_type))\n",
    "July23 <- mutate(July23, ride_id = as.character(ride_id), rideable_type = as.character(rideable_type))\n",
    "August23 <- mutate(August23, ride_id = as.character(ride_id), rideable_type = as.character(rideable_type))\n",
    "September23 <- mutate(September23, ride_id = as.character(ride_id), rideable_type = as.character(rideable_type))\n",
    "October23 <- mutate(October23, ride_id = as.character(ride_id), rideable_type = as.character(rideable_type))\n",
    "November23 <- mutate(November23, ride_id = as.character(ride_id), rideable_type = as.character(rideable_type))\n",
    "December23 <- mutate(December23, ride_id = as.character(ride_id), rideable_type = as.character(rideable_type))"
   ]
  },
  {
   "cell_type": "markdown",
   "id": "60859333",
   "metadata": {
    "papermill": {
     "duration": 0.017485,
     "end_time": "2024-09-25T16:12:41.978584",
     "exception": false,
     "start_time": "2024-09-25T16:12:41.961099",
     "status": "completed"
    },
    "tags": []
   },
   "source": [
    "The following step will be to create a new dataset combining all the files in order to work with just one dataset."
   ]
  },
  {
   "cell_type": "code",
   "execution_count": 5,
   "id": "bf03a762",
   "metadata": {
    "execution": {
     "iopub.execute_input": "2024-09-25T16:12:42.017275Z",
     "iopub.status.busy": "2024-09-25T16:12:42.015548Z",
     "iopub.status.idle": "2024-09-25T16:12:46.686928Z",
     "shell.execute_reply": "2024-09-25T16:12:46.684854Z"
    },
    "papermill": {
     "duration": 4.694214,
     "end_time": "2024-09-25T16:12:46.690351",
     "exception": false,
     "start_time": "2024-09-25T16:12:41.996137",
     "status": "completed"
    },
    "tags": []
   },
   "outputs": [],
   "source": [
    "cyclistic_23_24 <- bind_rows(January24, February24, March24, April24, May24, June23, July23, August23, September23, October23, November23, December23)"
   ]
  },
  {
   "cell_type": "markdown",
   "id": "f8d96062",
   "metadata": {
    "papermill": {
     "duration": 0.017377,
     "end_time": "2024-09-25T16:12:46.724951",
     "exception": false,
     "start_time": "2024-09-25T16:12:46.707574",
     "status": "completed"
    },
    "tags": []
   },
   "source": [
    "We will change two column names to facilitate working with this dataset. Renaming \"member_casual\" into \"user_type\" and \"rideable_type\" into \"bike_type\"."
   ]
  },
  {
   "cell_type": "code",
   "execution_count": 6,
   "id": "03b1c954",
   "metadata": {
    "execution": {
     "iopub.execute_input": "2024-09-25T16:12:46.763624Z",
     "iopub.status.busy": "2024-09-25T16:12:46.761918Z",
     "iopub.status.idle": "2024-09-25T16:12:46.785752Z",
     "shell.execute_reply": "2024-09-25T16:12:46.783827Z"
    },
    "papermill": {
     "duration": 0.046234,
     "end_time": "2024-09-25T16:12:46.788258",
     "exception": false,
     "start_time": "2024-09-25T16:12:46.742024",
     "status": "completed"
    },
    "tags": []
   },
   "outputs": [],
   "source": [
    "cyclistic_23_24 <- rename(cyclistic_23_24, user_type = member_casual)\n",
    "cyclistic_23_24 <- rename(cyclistic_23_24, bike_type = rideable_type)"
   ]
  },
  {
   "cell_type": "markdown",
   "id": "48f9d00d",
   "metadata": {
    "papermill": {
     "duration": 0.017315,
     "end_time": "2024-09-25T16:12:46.822862",
     "exception": false,
     "start_time": "2024-09-25T16:12:46.805547",
     "status": "completed"
    },
    "tags": []
   },
   "source": [
    "We will check shape and structure, and counting the number of rows."
   ]
  },
  {
   "cell_type": "code",
   "execution_count": 7,
   "id": "d825d9e7",
   "metadata": {
    "execution": {
     "iopub.execute_input": "2024-09-25T16:12:46.861219Z",
     "iopub.status.busy": "2024-09-25T16:12:46.859610Z",
     "iopub.status.idle": "2024-09-25T16:12:46.955491Z",
     "shell.execute_reply": "2024-09-25T16:12:46.953411Z"
    },
    "papermill": {
     "duration": 0.117976,
     "end_time": "2024-09-25T16:12:46.957907",
     "exception": false,
     "start_time": "2024-09-25T16:12:46.839931",
     "status": "completed"
    },
    "tags": []
   },
   "outputs": [
    {
     "data": {
      "text/html": [
       "<table class=\"dataframe\">\n",
       "<caption>A tibble: 6 × 13</caption>\n",
       "<thead>\n",
       "\t<tr><th scope=col>ride_id</th><th scope=col>bike_type</th><th scope=col>started_at</th><th scope=col>ended_at</th><th scope=col>start_station_name</th><th scope=col>start_station_id</th><th scope=col>end_station_name</th><th scope=col>end_station_id</th><th scope=col>start_lat</th><th scope=col>start_lng</th><th scope=col>end_lat</th><th scope=col>end_lng</th><th scope=col>user_type</th></tr>\n",
       "\t<tr><th scope=col>&lt;chr&gt;</th><th scope=col>&lt;chr&gt;</th><th scope=col>&lt;dttm&gt;</th><th scope=col>&lt;dttm&gt;</th><th scope=col>&lt;chr&gt;</th><th scope=col>&lt;chr&gt;</th><th scope=col>&lt;chr&gt;</th><th scope=col>&lt;chr&gt;</th><th scope=col>&lt;dbl&gt;</th><th scope=col>&lt;dbl&gt;</th><th scope=col>&lt;dbl&gt;</th><th scope=col>&lt;dbl&gt;</th><th scope=col>&lt;chr&gt;</th></tr>\n",
       "</thead>\n",
       "<tbody>\n",
       "\t<tr><td>C1D650626C8C899A</td><td>electric_bike</td><td>2024-01-12 15:30:27</td><td>2024-01-12 15:37:59</td><td><span style=white-space:pre-wrap>Wells St &amp; Elm St         </span></td><td>KA1504000135</td><td>Kingsbury St &amp; Kinzie St </td><td>KA1503000043</td><td>41.90327</td><td>-87.63474</td><td>41.88918</td><td>-87.63851</td><td>member</td></tr>\n",
       "\t<tr><td>EECD38BDB25BFCB0</td><td>electric_bike</td><td>2024-01-08 15:45:46</td><td>2024-01-08 15:52:59</td><td><span style=white-space:pre-wrap>Wells St &amp; Elm St         </span></td><td>KA1504000135</td><td>Kingsbury St &amp; Kinzie St </td><td>KA1503000043</td><td>41.90294</td><td>-87.63444</td><td>41.88918</td><td>-87.63851</td><td>member</td></tr>\n",
       "\t<tr><td>F4A9CE78061F17F7</td><td>electric_bike</td><td>2024-01-27 12:27:19</td><td>2024-01-27 12:35:19</td><td><span style=white-space:pre-wrap>Wells St &amp; Elm St         </span></td><td>KA1504000135</td><td>Kingsbury St &amp; Kinzie St </td><td>KA1503000043</td><td>41.90295</td><td>-87.63447</td><td>41.88918</td><td>-87.63851</td><td>member</td></tr>\n",
       "\t<tr><td>0A0D9E15EE50B171</td><td>classic_bike </td><td>2024-01-29 16:26:17</td><td>2024-01-29 16:56:06</td><td><span style=white-space:pre-wrap>Wells St &amp; Randolph St    </span></td><td>TA1305000030</td><td>Larrabee St &amp; Webster Ave</td><td><span style=white-space:pre-wrap>13193       </span></td><td>41.88430</td><td>-87.63396</td><td>41.92182</td><td>-87.64414</td><td>member</td></tr>\n",
       "\t<tr><td>33FFC9805E3EFF9A</td><td>classic_bike </td><td>2024-01-31 05:43:23</td><td>2024-01-31 06:09:35</td><td>Lincoln Ave &amp; Waveland Ave</td><td><span style=white-space:pre-wrap>13253       </span></td><td>Kingsbury St &amp; Kinzie St </td><td>KA1503000043</td><td>41.94880</td><td>-87.67528</td><td>41.88918</td><td>-87.63851</td><td>member</td></tr>\n",
       "\t<tr><td>C96080812CD285C5</td><td>classic_bike </td><td>2024-01-07 11:21:24</td><td>2024-01-07 11:30:03</td><td><span style=white-space:pre-wrap>Wells St &amp; Elm St         </span></td><td>KA1504000135</td><td>Kingsbury St &amp; Kinzie St </td><td>KA1503000043</td><td>41.90322</td><td>-87.63432</td><td>41.88918</td><td>-87.63851</td><td>member</td></tr>\n",
       "</tbody>\n",
       "</table>\n"
      ],
      "text/latex": [
       "A tibble: 6 × 13\n",
       "\\begin{tabular}{lllllllllllll}\n",
       " ride\\_id & bike\\_type & started\\_at & ended\\_at & start\\_station\\_name & start\\_station\\_id & end\\_station\\_name & end\\_station\\_id & start\\_lat & start\\_lng & end\\_lat & end\\_lng & user\\_type\\\\\n",
       " <chr> & <chr> & <dttm> & <dttm> & <chr> & <chr> & <chr> & <chr> & <dbl> & <dbl> & <dbl> & <dbl> & <chr>\\\\\n",
       "\\hline\n",
       "\t C1D650626C8C899A & electric\\_bike & 2024-01-12 15:30:27 & 2024-01-12 15:37:59 & Wells St \\& Elm St          & KA1504000135 & Kingsbury St \\& Kinzie St  & KA1503000043 & 41.90327 & -87.63474 & 41.88918 & -87.63851 & member\\\\\n",
       "\t EECD38BDB25BFCB0 & electric\\_bike & 2024-01-08 15:45:46 & 2024-01-08 15:52:59 & Wells St \\& Elm St          & KA1504000135 & Kingsbury St \\& Kinzie St  & KA1503000043 & 41.90294 & -87.63444 & 41.88918 & -87.63851 & member\\\\\n",
       "\t F4A9CE78061F17F7 & electric\\_bike & 2024-01-27 12:27:19 & 2024-01-27 12:35:19 & Wells St \\& Elm St          & KA1504000135 & Kingsbury St \\& Kinzie St  & KA1503000043 & 41.90295 & -87.63447 & 41.88918 & -87.63851 & member\\\\\n",
       "\t 0A0D9E15EE50B171 & classic\\_bike  & 2024-01-29 16:26:17 & 2024-01-29 16:56:06 & Wells St \\& Randolph St     & TA1305000030 & Larrabee St \\& Webster Ave & 13193        & 41.88430 & -87.63396 & 41.92182 & -87.64414 & member\\\\\n",
       "\t 33FFC9805E3EFF9A & classic\\_bike  & 2024-01-31 05:43:23 & 2024-01-31 06:09:35 & Lincoln Ave \\& Waveland Ave & 13253        & Kingsbury St \\& Kinzie St  & KA1503000043 & 41.94880 & -87.67528 & 41.88918 & -87.63851 & member\\\\\n",
       "\t C96080812CD285C5 & classic\\_bike  & 2024-01-07 11:21:24 & 2024-01-07 11:30:03 & Wells St \\& Elm St          & KA1504000135 & Kingsbury St \\& Kinzie St  & KA1503000043 & 41.90322 & -87.63432 & 41.88918 & -87.63851 & member\\\\\n",
       "\\end{tabular}\n"
      ],
      "text/markdown": [
       "\n",
       "A tibble: 6 × 13\n",
       "\n",
       "| ride_id &lt;chr&gt; | bike_type &lt;chr&gt; | started_at &lt;dttm&gt; | ended_at &lt;dttm&gt; | start_station_name &lt;chr&gt; | start_station_id &lt;chr&gt; | end_station_name &lt;chr&gt; | end_station_id &lt;chr&gt; | start_lat &lt;dbl&gt; | start_lng &lt;dbl&gt; | end_lat &lt;dbl&gt; | end_lng &lt;dbl&gt; | user_type &lt;chr&gt; |\n",
       "|---|---|---|---|---|---|---|---|---|---|---|---|---|\n",
       "| C1D650626C8C899A | electric_bike | 2024-01-12 15:30:27 | 2024-01-12 15:37:59 | Wells St &amp; Elm St          | KA1504000135 | Kingsbury St &amp; Kinzie St  | KA1503000043 | 41.90327 | -87.63474 | 41.88918 | -87.63851 | member |\n",
       "| EECD38BDB25BFCB0 | electric_bike | 2024-01-08 15:45:46 | 2024-01-08 15:52:59 | Wells St &amp; Elm St          | KA1504000135 | Kingsbury St &amp; Kinzie St  | KA1503000043 | 41.90294 | -87.63444 | 41.88918 | -87.63851 | member |\n",
       "| F4A9CE78061F17F7 | electric_bike | 2024-01-27 12:27:19 | 2024-01-27 12:35:19 | Wells St &amp; Elm St          | KA1504000135 | Kingsbury St &amp; Kinzie St  | KA1503000043 | 41.90295 | -87.63447 | 41.88918 | -87.63851 | member |\n",
       "| 0A0D9E15EE50B171 | classic_bike  | 2024-01-29 16:26:17 | 2024-01-29 16:56:06 | Wells St &amp; Randolph St     | TA1305000030 | Larrabee St &amp; Webster Ave | 13193        | 41.88430 | -87.63396 | 41.92182 | -87.64414 | member |\n",
       "| 33FFC9805E3EFF9A | classic_bike  | 2024-01-31 05:43:23 | 2024-01-31 06:09:35 | Lincoln Ave &amp; Waveland Ave | 13253        | Kingsbury St &amp; Kinzie St  | KA1503000043 | 41.94880 | -87.67528 | 41.88918 | -87.63851 | member |\n",
       "| C96080812CD285C5 | classic_bike  | 2024-01-07 11:21:24 | 2024-01-07 11:30:03 | Wells St &amp; Elm St          | KA1504000135 | Kingsbury St &amp; Kinzie St  | KA1503000043 | 41.90322 | -87.63432 | 41.88918 | -87.63851 | member |\n",
       "\n"
      ],
      "text/plain": [
       "  ride_id          bike_type     started_at          ended_at           \n",
       "1 C1D650626C8C899A electric_bike 2024-01-12 15:30:27 2024-01-12 15:37:59\n",
       "2 EECD38BDB25BFCB0 electric_bike 2024-01-08 15:45:46 2024-01-08 15:52:59\n",
       "3 F4A9CE78061F17F7 electric_bike 2024-01-27 12:27:19 2024-01-27 12:35:19\n",
       "4 0A0D9E15EE50B171 classic_bike  2024-01-29 16:26:17 2024-01-29 16:56:06\n",
       "5 33FFC9805E3EFF9A classic_bike  2024-01-31 05:43:23 2024-01-31 06:09:35\n",
       "6 C96080812CD285C5 classic_bike  2024-01-07 11:21:24 2024-01-07 11:30:03\n",
       "  start_station_name         start_station_id end_station_name         \n",
       "1 Wells St & Elm St          KA1504000135     Kingsbury St & Kinzie St \n",
       "2 Wells St & Elm St          KA1504000135     Kingsbury St & Kinzie St \n",
       "3 Wells St & Elm St          KA1504000135     Kingsbury St & Kinzie St \n",
       "4 Wells St & Randolph St     TA1305000030     Larrabee St & Webster Ave\n",
       "5 Lincoln Ave & Waveland Ave 13253            Kingsbury St & Kinzie St \n",
       "6 Wells St & Elm St          KA1504000135     Kingsbury St & Kinzie St \n",
       "  end_station_id start_lat start_lng end_lat  end_lng   user_type\n",
       "1 KA1503000043   41.90327  -87.63474 41.88918 -87.63851 member   \n",
       "2 KA1503000043   41.90294  -87.63444 41.88918 -87.63851 member   \n",
       "3 KA1503000043   41.90295  -87.63447 41.88918 -87.63851 member   \n",
       "4 13193          41.88430  -87.63396 41.92182 -87.64414 member   \n",
       "5 KA1503000043   41.94880  -87.67528 41.88918 -87.63851 member   \n",
       "6 KA1503000043   41.90322  -87.63432 41.88918 -87.63851 member   "
      ]
     },
     "metadata": {},
     "output_type": "display_data"
    },
    {
     "name": "stdout",
     "output_type": "stream",
     "text": [
      "tibble [5,743,278 × 13] (S3: tbl_df/tbl/data.frame)\n",
      " $ ride_id           : chr [1:5743278] \"C1D650626C8C899A\" \"EECD38BDB25BFCB0\" \"F4A9CE78061F17F7\" \"0A0D9E15EE50B171\" ...\n",
      " $ bike_type         : chr [1:5743278] \"electric_bike\" \"electric_bike\" \"electric_bike\" \"classic_bike\" ...\n",
      " $ started_at        : POSIXct[1:5743278], format: \"2024-01-12 15:30:27\" \"2024-01-08 15:45:46\" ...\n",
      " $ ended_at          : POSIXct[1:5743278], format: \"2024-01-12 15:37:59\" \"2024-01-08 15:52:59\" ...\n",
      " $ start_station_name: chr [1:5743278] \"Wells St & Elm St\" \"Wells St & Elm St\" \"Wells St & Elm St\" \"Wells St & Randolph St\" ...\n",
      " $ start_station_id  : chr [1:5743278] \"KA1504000135\" \"KA1504000135\" \"KA1504000135\" \"TA1305000030\" ...\n",
      " $ end_station_name  : chr [1:5743278] \"Kingsbury St & Kinzie St\" \"Kingsbury St & Kinzie St\" \"Kingsbury St & Kinzie St\" \"Larrabee St & Webster Ave\" ...\n",
      " $ end_station_id    : chr [1:5743278] \"KA1503000043\" \"KA1503000043\" \"KA1503000043\" \"13193\" ...\n",
      " $ start_lat         : num [1:5743278] 41.9 41.9 41.9 41.9 41.9 ...\n",
      " $ start_lng         : num [1:5743278] -87.6 -87.6 -87.6 -87.6 -87.7 ...\n",
      " $ end_lat           : num [1:5743278] 41.9 41.9 41.9 41.9 41.9 ...\n",
      " $ end_lng           : num [1:5743278] -87.6 -87.6 -87.6 -87.6 -87.6 ...\n",
      " $ user_type         : chr [1:5743278] \"member\" \"member\" \"member\" \"member\" ...\n"
     ]
    },
    {
     "name": "stdout",
     "output_type": "stream",
     "text": [
      "Rows: 5,743,278\n",
      "Columns: 13\n",
      "$ ride_id            \u001b[3m\u001b[90m<chr>\u001b[39m\u001b[23m \"C1D650626C8C899A\", \"EECD38BDB25BFCB0\", \"F4A9CE7806…\n",
      "$ bike_type          \u001b[3m\u001b[90m<chr>\u001b[39m\u001b[23m \"electric_bike\", \"electric_bike\", \"electric_bike\", …\n",
      "$ started_at         \u001b[3m\u001b[90m<dttm>\u001b[39m\u001b[23m 2024-01-12 15:30:27, 2024-01-08 15:45:46, 2024-01-…\n",
      "$ ended_at           \u001b[3m\u001b[90m<dttm>\u001b[39m\u001b[23m 2024-01-12 15:37:59, 2024-01-08 15:52:59, 2024-01-…\n",
      "$ start_station_name \u001b[3m\u001b[90m<chr>\u001b[39m\u001b[23m \"Wells St & Elm St\", \"Wells St & Elm St\", \"Wells St…\n",
      "$ start_station_id   \u001b[3m\u001b[90m<chr>\u001b[39m\u001b[23m \"KA1504000135\", \"KA1504000135\", \"KA1504000135\", \"TA…\n",
      "$ end_station_name   \u001b[3m\u001b[90m<chr>\u001b[39m\u001b[23m \"Kingsbury St & Kinzie St\", \"Kingsbury St & Kinzie …\n",
      "$ end_station_id     \u001b[3m\u001b[90m<chr>\u001b[39m\u001b[23m \"KA1503000043\", \"KA1503000043\", \"KA1503000043\", \"13…\n",
      "$ start_lat          \u001b[3m\u001b[90m<dbl>\u001b[39m\u001b[23m 41.90327, 41.90294, 41.90295, 41.88430, 41.94880, 4…\n",
      "$ start_lng          \u001b[3m\u001b[90m<dbl>\u001b[39m\u001b[23m -87.63474, -87.63444, -87.63447, -87.63396, -87.675…\n",
      "$ end_lat            \u001b[3m\u001b[90m<dbl>\u001b[39m\u001b[23m 41.88918, 41.88918, 41.88918, 41.92182, 41.88918, 4…\n",
      "$ end_lng            \u001b[3m\u001b[90m<dbl>\u001b[39m\u001b[23m -87.63851, -87.63851, -87.63851, -87.64414, -87.638…\n",
      "$ user_type          \u001b[3m\u001b[90m<chr>\u001b[39m\u001b[23m \"member\", \"member\", \"member\", \"member\", \"member\", \"…\n"
     ]
    },
    {
     "name": "stdout",
     "output_type": "stream",
     "text": [
      "[1] 5743278\n"
     ]
    }
   ],
   "source": [
    "head(cyclistic_23_24)\n",
    "str(cyclistic_23_24)\n",
    "glimpse(cyclistic_23_24)\n",
    "number_rows <- cyclistic_23_24 %>%\n",
    "    nrow()\n",
    "print(number_rows)"
   ]
  },
  {
   "cell_type": "markdown",
   "id": "e1de1658",
   "metadata": {
    "papermill": {
     "duration": 0.017623,
     "end_time": "2024-09-25T16:12:46.993422",
     "exception": false,
     "start_time": "2024-09-25T16:12:46.975799",
     "status": "completed"
    },
    "tags": []
   },
   "source": [
    "There are two columns that won't be used, so we will remove them."
   ]
  },
  {
   "cell_type": "code",
   "execution_count": 8,
   "id": "a6152a85",
   "metadata": {
    "execution": {
     "iopub.execute_input": "2024-09-25T16:12:47.031580Z",
     "iopub.status.busy": "2024-09-25T16:12:47.029899Z",
     "iopub.status.idle": "2024-09-25T16:12:47.046749Z",
     "shell.execute_reply": "2024-09-25T16:12:47.044860Z"
    },
    "papermill": {
     "duration": 0.038631,
     "end_time": "2024-09-25T16:12:47.049190",
     "exception": false,
     "start_time": "2024-09-25T16:12:47.010559",
     "status": "completed"
    },
    "tags": []
   },
   "outputs": [],
   "source": [
    "cyclistic_23_24 <- cyclistic_23_24 %>%\n",
    "    select(-c(start_station_id, end_station_id))"
   ]
  },
  {
   "cell_type": "markdown",
   "id": "c3f59397",
   "metadata": {
    "papermill": {
     "duration": 0.01709,
     "end_time": "2024-09-25T16:12:47.083421",
     "exception": false,
     "start_time": "2024-09-25T16:12:47.066331",
     "status": "completed"
    },
    "tags": []
   },
   "source": [
    "Now, we will check if there are any missing values."
   ]
  },
  {
   "cell_type": "code",
   "execution_count": 9,
   "id": "798f4df0",
   "metadata": {
    "execution": {
     "iopub.execute_input": "2024-09-25T16:12:47.121049Z",
     "iopub.status.busy": "2024-09-25T16:12:47.119400Z",
     "iopub.status.idle": "2024-09-25T16:14:35.488852Z",
     "shell.execute_reply": "2024-09-25T16:14:35.487045Z"
    },
    "papermill": {
     "duration": 108.390815,
     "end_time": "2024-09-25T16:14:35.491012",
     "exception": false,
     "start_time": "2024-09-25T16:12:47.100197",
     "status": "completed"
    },
    "tags": []
   },
   "outputs": [
    {
     "data": {
      "text/html": [
       "1877184"
      ],
      "text/latex": [
       "1877184"
      ],
      "text/markdown": [
       "1877184"
      ],
      "text/plain": [
       "[1] 1877184"
      ]
     },
     "metadata": {},
     "output_type": "display_data"
    },
    {
     "data": {
      "text/html": [
       "<style>\n",
       ".list-inline {list-style: none; margin:0; padding: 0}\n",
       ".list-inline>li {display: inline-block}\n",
       ".list-inline>li:not(:last-child)::after {content: \"\\00b7\"; padding: 0 .5ex}\n",
       "</style>\n",
       "<ol class=list-inline><li>'start_station_name'</li><li>'end_station_name'</li><li>'end_lat'</li><li>'end_lng'</li></ol>\n"
      ],
      "text/latex": [
       "\\begin{enumerate*}\n",
       "\\item 'start\\_station\\_name'\n",
       "\\item 'end\\_station\\_name'\n",
       "\\item 'end\\_lat'\n",
       "\\item 'end\\_lng'\n",
       "\\end{enumerate*}\n"
      ],
      "text/markdown": [
       "1. 'start_station_name'\n",
       "2. 'end_station_name'\n",
       "3. 'end_lat'\n",
       "4. 'end_lng'\n",
       "\n",
       "\n"
      ],
      "text/plain": [
       "[1] \"start_station_name\" \"end_station_name\"   \"end_lat\"           \n",
       "[4] \"end_lng\"           "
      ]
     },
     "metadata": {},
     "output_type": "display_data"
    },
    {
     "data": {
      "text/html": [
       "1428498"
      ],
      "text/latex": [
       "1428498"
      ],
      "text/markdown": [
       "1428498"
      ],
      "text/plain": [
       "[1] 1428498"
      ]
     },
     "metadata": {},
     "output_type": "display_data"
    }
   ],
   "source": [
    "sum(is.na(cyclistic_23_24))\n",
    "colnames(cyclistic_23_24) [apply(cyclistic_23_24, 2, anyNA)]\n",
    "sum(!complete.cases(cyclistic_23_24))"
   ]
  },
  {
   "cell_type": "markdown",
   "id": "0e5f6452",
   "metadata": {
    "papermill": {
     "duration": 0.017456,
     "end_time": "2024-09-25T16:14:35.526485",
     "exception": false,
     "start_time": "2024-09-25T16:14:35.509029",
     "status": "completed"
    },
    "tags": []
   },
   "source": [
    "We will look for any duplicate if there is and we will remove missing values."
   ]
  },
  {
   "cell_type": "code",
   "execution_count": 10,
   "id": "265cd490",
   "metadata": {
    "execution": {
     "iopub.execute_input": "2024-09-25T16:14:35.565698Z",
     "iopub.status.busy": "2024-09-25T16:14:35.563982Z",
     "iopub.status.idle": "2024-09-25T16:14:37.669686Z",
     "shell.execute_reply": "2024-09-25T16:14:37.667952Z"
    },
    "papermill": {
     "duration": 2.127622,
     "end_time": "2024-09-25T16:14:37.671952",
     "exception": false,
     "start_time": "2024-09-25T16:14:35.544330",
     "status": "completed"
    },
    "tags": []
   },
   "outputs": [
    {
     "data": {
      "text/html": [
       "0"
      ],
      "text/latex": [
       "0"
      ],
      "text/markdown": [
       "0"
      ],
      "text/plain": [
       "[1] 0"
      ]
     },
     "metadata": {},
     "output_type": "display_data"
    }
   ],
   "source": [
    "cyclistic_23_24_2 <- cyclistic_23_24[!duplicated(cyclistic_23_24$ride_id), ]\n",
    "nrow(cyclistic_23_24_2) - nrow(cyclistic_23_24)"
   ]
  },
  {
   "cell_type": "code",
   "execution_count": 11,
   "id": "e24d151f",
   "metadata": {
    "execution": {
     "iopub.execute_input": "2024-09-25T16:14:37.710806Z",
     "iopub.status.busy": "2024-09-25T16:14:37.709179Z",
     "iopub.status.idle": "2024-09-25T16:14:39.658878Z",
     "shell.execute_reply": "2024-09-25T16:14:39.656111Z"
    },
    "papermill": {
     "duration": 1.973256,
     "end_time": "2024-09-25T16:14:39.662393",
     "exception": false,
     "start_time": "2024-09-25T16:14:37.689137",
     "status": "completed"
    },
    "tags": []
   },
   "outputs": [
    {
     "data": {
      "text/html": [
       "<table class=\"dataframe\">\n",
       "<caption>A tibble: 4314780 × 11</caption>\n",
       "<thead>\n",
       "\t<tr><th scope=col>ride_id</th><th scope=col>bike_type</th><th scope=col>started_at</th><th scope=col>ended_at</th><th scope=col>start_station_name</th><th scope=col>end_station_name</th><th scope=col>start_lat</th><th scope=col>start_lng</th><th scope=col>end_lat</th><th scope=col>end_lng</th><th scope=col>user_type</th></tr>\n",
       "\t<tr><th scope=col>&lt;chr&gt;</th><th scope=col>&lt;chr&gt;</th><th scope=col>&lt;dttm&gt;</th><th scope=col>&lt;dttm&gt;</th><th scope=col>&lt;chr&gt;</th><th scope=col>&lt;chr&gt;</th><th scope=col>&lt;dbl&gt;</th><th scope=col>&lt;dbl&gt;</th><th scope=col>&lt;dbl&gt;</th><th scope=col>&lt;dbl&gt;</th><th scope=col>&lt;chr&gt;</th></tr>\n",
       "</thead>\n",
       "<tbody>\n",
       "\t<tr><td>C1D650626C8C899A</td><td>electric_bike</td><td>2024-01-12 15:30:27</td><td>2024-01-12 15:37:59</td><td><span style=white-space:pre-wrap>Wells St &amp; Elm St                  </span></td><td>Kingsbury St &amp; Kinzie St </td><td>41.90327</td><td>-87.63474</td><td>41.88918</td><td>-87.63851</td><td>member</td></tr>\n",
       "\t<tr><td>EECD38BDB25BFCB0</td><td>electric_bike</td><td>2024-01-08 15:45:46</td><td>2024-01-08 15:52:59</td><td><span style=white-space:pre-wrap>Wells St &amp; Elm St                  </span></td><td>Kingsbury St &amp; Kinzie St </td><td>41.90294</td><td>-87.63444</td><td>41.88918</td><td>-87.63851</td><td>member</td></tr>\n",
       "\t<tr><td>F4A9CE78061F17F7</td><td>electric_bike</td><td>2024-01-27 12:27:19</td><td>2024-01-27 12:35:19</td><td><span style=white-space:pre-wrap>Wells St &amp; Elm St                  </span></td><td>Kingsbury St &amp; Kinzie St </td><td>41.90295</td><td>-87.63447</td><td>41.88918</td><td>-87.63851</td><td>member</td></tr>\n",
       "\t<tr><td>0A0D9E15EE50B171</td><td>classic_bike </td><td>2024-01-29 16:26:17</td><td>2024-01-29 16:56:06</td><td><span style=white-space:pre-wrap>Wells St &amp; Randolph St             </span></td><td>Larrabee St &amp; Webster Ave</td><td>41.88430</td><td>-87.63396</td><td>41.92182</td><td>-87.64414</td><td>member</td></tr>\n",
       "\t<tr><td>33FFC9805E3EFF9A</td><td>classic_bike </td><td>2024-01-31 05:43:23</td><td>2024-01-31 06:09:35</td><td><span style=white-space:pre-wrap>Lincoln Ave &amp; Waveland Ave         </span></td><td>Kingsbury St &amp; Kinzie St </td><td>41.94880</td><td>-87.67528</td><td>41.88918</td><td>-87.63851</td><td>member</td></tr>\n",
       "\t<tr><td>C96080812CD285C5</td><td>classic_bike </td><td>2024-01-07 11:21:24</td><td>2024-01-07 11:30:03</td><td><span style=white-space:pre-wrap>Wells St &amp; Elm St                  </span></td><td>Kingsbury St &amp; Kinzie St </td><td>41.90322</td><td>-87.63432</td><td>41.88918</td><td>-87.63851</td><td>member</td></tr>\n",
       "\t<tr><td>0EA7CB313D4F456A</td><td>classic_bike </td><td>2024-01-05 14:44:12</td><td>2024-01-05 14:53:06</td><td><span style=white-space:pre-wrap>Wells St &amp; Elm St                  </span></td><td>Kingsbury St &amp; Kinzie St </td><td>41.90322</td><td>-87.63432</td><td>41.88918</td><td>-87.63851</td><td>member</td></tr>\n",
       "\t<tr><td>EE11F3A3B39CFBD8</td><td>electric_bike</td><td>2024-01-04 18:19:53</td><td>2024-01-04 18:28:04</td><td><span style=white-space:pre-wrap>Wells St &amp; Elm St                  </span></td><td>Kingsbury St &amp; Kinzie St </td><td>41.90337</td><td>-87.63486</td><td>41.88918</td><td>-87.63851</td><td>member</td></tr>\n",
       "\t<tr><td>63E83DE8E3279F15</td><td>classic_bike </td><td>2024-01-01 14:46:53</td><td>2024-01-01 14:57:02</td><td><span style=white-space:pre-wrap>Wells St &amp; Elm St                  </span></td><td>Kingsbury St &amp; Kinzie St </td><td>41.90322</td><td>-87.63432</td><td>41.88918</td><td>-87.63851</td><td>member</td></tr>\n",
       "\t<tr><td>8005682869122D93</td><td>electric_bike</td><td>2024-01-03 19:31:08</td><td>2024-01-03 19:40:05</td><td><span style=white-space:pre-wrap>Clark St &amp; Ida B Wells Dr          </span></td><td>Kingsbury St &amp; Kinzie St </td><td>41.87603</td><td>-87.63087</td><td>41.88918</td><td>-87.63851</td><td>member</td></tr>\n",
       "\t<tr><td>22B85E685AE0D490</td><td>electric_bike</td><td>2024-01-03 07:39:20</td><td>2024-01-03 07:47:12</td><td><span style=white-space:pre-wrap>Wells St &amp; Elm St                  </span></td><td>Kingsbury St &amp; Kinzie St </td><td>41.90303</td><td>-87.63461</td><td>41.88918</td><td>-87.63851</td><td>member</td></tr>\n",
       "\t<tr><td>133CDC03CA430172</td><td>classic_bike </td><td>2024-01-03 17:03:11</td><td>2024-01-03 17:13:15</td><td><span style=white-space:pre-wrap>Wells St &amp; Elm St                  </span></td><td>Kingsbury St &amp; Kinzie St </td><td>41.90322</td><td>-87.63432</td><td>41.88918</td><td>-87.63851</td><td>member</td></tr>\n",
       "\t<tr><td>32D57BF92858025D</td><td>electric_bike</td><td>2024-01-10 17:04:09</td><td>2024-01-10 17:11:40</td><td><span style=white-space:pre-wrap>Wells St &amp; Elm St                  </span></td><td>Kingsbury St &amp; Kinzie St </td><td>41.90315</td><td>-87.63458</td><td>41.88918</td><td>-87.63851</td><td>member</td></tr>\n",
       "\t<tr><td>B110B5685C38D69B</td><td>electric_bike</td><td>2024-01-12 12:35:14</td><td>2024-01-12 12:43:34</td><td><span style=white-space:pre-wrap>Clark St &amp; Ida B Wells Dr          </span></td><td>Kingsbury St &amp; Kinzie St </td><td>41.87585</td><td>-87.63093</td><td>41.88918</td><td>-87.63851</td><td>member</td></tr>\n",
       "\t<tr><td>B6608710B5FA0938</td><td>electric_bike</td><td>2024-01-07 08:00:19</td><td>2024-01-07 08:06:46</td><td><span style=white-space:pre-wrap>Clark St &amp; Ida B Wells Dr          </span></td><td>Kingsbury St &amp; Kinzie St </td><td>41.87557</td><td>-87.63078</td><td>41.88918</td><td>-87.63851</td><td>member</td></tr>\n",
       "\t<tr><td>E7A33AC59F174164</td><td>electric_bike</td><td>2024-01-24 08:28:31</td><td>2024-01-24 08:32:13</td><td><span style=white-space:pre-wrap>Clark St &amp; Randolph St             </span></td><td>Kingsbury St &amp; Kinzie St </td><td>41.88417</td><td>-87.63209</td><td>41.88918</td><td>-87.63851</td><td>member</td></tr>\n",
       "\t<tr><td>BAC650B3CFE6160E</td><td>electric_bike</td><td>2024-01-13 11:18:54</td><td>2024-01-13 11:25:16</td><td><span style=white-space:pre-wrap>Wells St &amp; Elm St                  </span></td><td>Kingsbury St &amp; Kinzie St </td><td>41.90303</td><td>-87.63462</td><td>41.88918</td><td>-87.63851</td><td>member</td></tr>\n",
       "\t<tr><td>C6CC4B54F874526D</td><td>electric_bike</td><td>2024-01-24 18:52:19</td><td>2024-01-24 19:04:16</td><td><span style=white-space:pre-wrap>Sheffield Ave &amp; Kingsbury St       </span></td><td>Aberdeen St &amp; Randolph St</td><td>41.91062</td><td>-87.65314</td><td>41.88411</td><td>-87.65426</td><td>member</td></tr>\n",
       "\t<tr><td>A7BDDCFEDF01FC88</td><td>classic_bike </td><td>2024-01-27 13:12:24</td><td>2024-01-27 13:19:35</td><td><span style=white-space:pre-wrap>Wells St &amp; Elm St                  </span></td><td>Kingsbury St &amp; Kinzie St </td><td>41.90322</td><td>-87.63432</td><td>41.88918</td><td>-87.63851</td><td>member</td></tr>\n",
       "\t<tr><td>E247F34BF1F9D880</td><td>electric_bike</td><td>2024-01-05 13:15:24</td><td>2024-01-05 13:21:41</td><td><span style=white-space:pre-wrap>Clark St &amp; Randolph St             </span></td><td>Aberdeen St &amp; Randolph St</td><td>41.88530</td><td>-87.63225</td><td>41.88411</td><td>-87.65426</td><td>member</td></tr>\n",
       "\t<tr><td>ABB990CC5347FFE4</td><td>classic_bike </td><td>2024-01-29 14:52:32</td><td>2024-01-29 15:02:32</td><td><span style=white-space:pre-wrap>Wells St &amp; Elm St                  </span></td><td>Kingsbury St &amp; Kinzie St </td><td>41.90322</td><td>-87.63432</td><td>41.88918</td><td>-87.63851</td><td>member</td></tr>\n",
       "\t<tr><td>B94F514DEB4BFA5D</td><td>classic_bike </td><td>2024-01-27 11:57:12</td><td>2024-01-27 11:59:17</td><td>Orleans St &amp; Merchandise Mart Plaza</td><td>Kingsbury St &amp; Kinzie St </td><td>41.88824</td><td>-87.63639</td><td>41.88918</td><td>-87.63851</td><td>member</td></tr>\n",
       "\t<tr><td>6D6DAFC2690671FD</td><td>classic_bike </td><td>2024-01-07 11:17:55</td><td>2024-01-07 11:21:16</td><td>Orleans St &amp; Merchandise Mart Plaza</td><td>Kingsbury St &amp; Kinzie St </td><td>41.88824</td><td>-87.63639</td><td>41.88918</td><td>-87.63851</td><td>member</td></tr>\n",
       "\t<tr><td>A66C4E711B385BF8</td><td>classic_bike </td><td>2024-01-04 10:45:43</td><td>2024-01-04 10:53:34</td><td><span style=white-space:pre-wrap>Wells St &amp; Elm St                  </span></td><td>Kingsbury St &amp; Kinzie St </td><td>41.90322</td><td>-87.63432</td><td>41.88918</td><td>-87.63851</td><td>member</td></tr>\n",
       "\t<tr><td>2A7C772836F761A4</td><td>classic_bike </td><td>2024-01-27 14:12:40</td><td>2024-01-27 14:24:23</td><td><span style=white-space:pre-wrap>Winchester Ave &amp; Elston Ave        </span></td><td>Larrabee St &amp; Webster Ave</td><td>41.92409</td><td>-87.67646</td><td>41.92182</td><td>-87.64414</td><td>member</td></tr>\n",
       "\t<tr><td>8835DEA62C38580A</td><td>classic_bike </td><td>2024-01-04 14:52:25</td><td>2024-01-04 15:05:04</td><td><span style=white-space:pre-wrap>Sheffield Ave &amp; Kingsbury St       </span></td><td>Kingsbury St &amp; Kinzie St </td><td>41.91052</td><td>-87.65311</td><td>41.88918</td><td>-87.63851</td><td>member</td></tr>\n",
       "\t<tr><td>018801ABB9AA7035</td><td>classic_bike </td><td>2024-01-17 17:35:27</td><td>2024-01-17 17:46:14</td><td><span style=white-space:pre-wrap>Wells St &amp; Elm St                  </span></td><td>Larrabee St &amp; Webster Ave</td><td>41.90322</td><td>-87.63432</td><td>41.92182</td><td>-87.64414</td><td>member</td></tr>\n",
       "\t<tr><td>C9C9DB2C6ED94D62</td><td>classic_bike </td><td>2024-01-27 13:17:09</td><td>2024-01-27 13:30:32</td><td><span style=white-space:pre-wrap>Clarendon Ave &amp; Junior Ter         </span></td><td>Wilton Ave &amp; Belmont Ave </td><td>41.96100</td><td>-87.64960</td><td>41.94023</td><td>-87.65294</td><td>member</td></tr>\n",
       "\t<tr><td>A12F77985790C6C9</td><td>electric_bike</td><td>2024-01-04 18:10:46</td><td>2024-01-04 18:16:42</td><td><span style=white-space:pre-wrap>Wells St &amp; Elm St                  </span></td><td>Kingsbury St &amp; Kinzie St </td><td>41.90319</td><td>-87.63428</td><td>41.88918</td><td>-87.63851</td><td>member</td></tr>\n",
       "\t<tr><td>D386AB9FA3ED6747</td><td>classic_bike </td><td>2024-01-07 17:28:11</td><td>2024-01-07 17:45:34</td><td>Orleans St &amp; Merchandise Mart Plaza</td><td>Larrabee St &amp; Webster Ave</td><td>41.88824</td><td>-87.63639</td><td>41.92182</td><td>-87.64414</td><td>member</td></tr>\n",
       "\t<tr><td>⋮</td><td>⋮</td><td>⋮</td><td>⋮</td><td>⋮</td><td>⋮</td><td>⋮</td><td>⋮</td><td>⋮</td><td>⋮</td><td>⋮</td></tr>\n",
       "\t<tr><td>19A84AA53CF2F73D</td><td>electric_bike</td><td>2023-12-05 07:27:35</td><td>2023-12-05 07:30:16</td><td><span style=white-space:pre-wrap>State St &amp; Randolph St             </span></td><td><span style=white-space:pre-wrap>LaSalle St &amp; Washington St  </span></td><td>41.88501</td><td>-87.62796</td><td>41.88266</td><td>-87.63253</td><td>member</td></tr>\n",
       "\t<tr><td>0BB8BE7F36828383</td><td>classic_bike </td><td>2023-12-06 06:43:21</td><td>2023-12-06 06:47:07</td><td><span style=white-space:pre-wrap>Stave St &amp; Armitage Ave            </span></td><td>Milwaukee Ave &amp; Wabansia Ave</td><td>41.91774</td><td>-87.69139</td><td>41.91262</td><td>-87.68139</td><td>member</td></tr>\n",
       "\t<tr><td>5EF36E585E6BB993</td><td>classic_bike </td><td>2023-12-16 18:44:40</td><td>2023-12-16 18:48:00</td><td><span style=white-space:pre-wrap>900 W Harrison St                  </span></td><td><span style=white-space:pre-wrap>Racine Ave &amp; Congress Pkwy  </span></td><td>41.87475</td><td>-87.64981</td><td>41.87464</td><td>-87.65703</td><td>member</td></tr>\n",
       "\t<tr><td>B270C5C8FD4F4850</td><td>classic_bike </td><td>2023-12-01 21:17:55</td><td>2023-12-01 21:21:12</td><td><span style=white-space:pre-wrap>900 W Harrison St                  </span></td><td><span style=white-space:pre-wrap>Racine Ave &amp; Congress Pkwy  </span></td><td>41.87475</td><td>-87.64981</td><td>41.87464</td><td>-87.65703</td><td>member</td></tr>\n",
       "\t<tr><td>3C45AEFA28CEAFD4</td><td>classic_bike </td><td>2023-12-09 19:09:58</td><td>2023-12-09 19:13:21</td><td><span style=white-space:pre-wrap>900 W Harrison St                  </span></td><td><span style=white-space:pre-wrap>Racine Ave &amp; Congress Pkwy  </span></td><td>41.87475</td><td>-87.64981</td><td>41.87464</td><td>-87.65703</td><td>member</td></tr>\n",
       "\t<tr><td>11AFDE89FFFF018D</td><td>classic_bike </td><td>2023-12-26 18:13:41</td><td>2023-12-26 18:18:46</td><td><span style=white-space:pre-wrap>900 W Harrison St                  </span></td><td><span style=white-space:pre-wrap>Racine Ave &amp; Congress Pkwy  </span></td><td>41.87475</td><td>-87.64981</td><td>41.87464</td><td>-87.65703</td><td>member</td></tr>\n",
       "\t<tr><td>6D427553ADD4E80C</td><td>classic_bike </td><td>2023-12-29 11:09:37</td><td>2023-12-29 11:13:10</td><td><span style=white-space:pre-wrap>900 W Harrison St                  </span></td><td><span style=white-space:pre-wrap>Racine Ave &amp; Congress Pkwy  </span></td><td>41.87475</td><td>-87.64981</td><td>41.87464</td><td>-87.65703</td><td>member</td></tr>\n",
       "\t<tr><td>DC85C06F5E6E8EB3</td><td>classic_bike </td><td>2023-12-04 12:24:13</td><td>2023-12-04 12:32:28</td><td><span style=white-space:pre-wrap>Damen Ave/Coulter St               </span></td><td><span style=white-space:pre-wrap>Ashland Ave &amp; Archer Ave    </span></td><td>41.84920</td><td>-87.67564</td><td>41.83921</td><td>-87.66561</td><td>member</td></tr>\n",
       "\t<tr><td>742C83265811C76B</td><td>classic_bike </td><td>2023-12-14 17:39:54</td><td>2023-12-14 17:42:29</td><td><span style=white-space:pre-wrap>900 W Harrison St                  </span></td><td><span style=white-space:pre-wrap>Racine Ave &amp; Congress Pkwy  </span></td><td>41.87475</td><td>-87.64981</td><td>41.87464</td><td>-87.65703</td><td>member</td></tr>\n",
       "\t<tr><td>42AD67EB965D9369</td><td>electric_bike</td><td>2023-12-01 12:48:08</td><td>2023-12-01 13:02:26</td><td><span style=white-space:pre-wrap>Racine Ave &amp; 18th St               </span></td><td><span style=white-space:pre-wrap>Morgan St &amp; Lake St*        </span></td><td>41.85829</td><td>-87.65635</td><td>41.88549</td><td>-87.65229</td><td>member</td></tr>\n",
       "\t<tr><td>52FF3FC5635F9561</td><td>classic_bike </td><td>2023-12-07 11:39:41</td><td>2023-12-07 11:42:57</td><td><span style=white-space:pre-wrap>900 W Harrison St                  </span></td><td><span style=white-space:pre-wrap>Racine Ave &amp; Congress Pkwy  </span></td><td>41.87475</td><td>-87.64981</td><td>41.87464</td><td>-87.65703</td><td>member</td></tr>\n",
       "\t<tr><td>7C679A3BAE8CDCB4</td><td>classic_bike </td><td>2023-12-12 21:39:14</td><td>2023-12-12 21:51:16</td><td><span style=white-space:pre-wrap>Damen Ave &amp; Madison St             </span></td><td><span style=white-space:pre-wrap>Morgan St &amp; Lake St*        </span></td><td>41.88137</td><td>-87.67493</td><td>41.88549</td><td>-87.65229</td><td>member</td></tr>\n",
       "\t<tr><td>5169FBC5AC523376</td><td>electric_bike</td><td>2023-12-06 12:04:30</td><td>2023-12-06 12:15:07</td><td><span style=white-space:pre-wrap>Racine Ave &amp; 18th St               </span></td><td><span style=white-space:pre-wrap>LaSalle St &amp; Washington St  </span></td><td>41.85832</td><td>-87.65650</td><td>41.88266</td><td>-87.63253</td><td>casual</td></tr>\n",
       "\t<tr><td>790C9497DB0CF986</td><td>electric_bike</td><td>2023-12-21 13:55:23</td><td>2023-12-21 13:57:51</td><td><span style=white-space:pre-wrap>900 W Harrison St                  </span></td><td><span style=white-space:pre-wrap>Racine Ave &amp; Congress Pkwy  </span></td><td>41.87472</td><td>-87.64988</td><td>41.87464</td><td>-87.65703</td><td>casual</td></tr>\n",
       "\t<tr><td>CCE83C38F4D91EFB</td><td>classic_bike </td><td>2023-12-21 13:38:56</td><td>2023-12-21 13:48:12</td><td><span style=white-space:pre-wrap>MLK Jr Dr &amp; 47th St                </span></td><td><span style=white-space:pre-wrap>Calumet Ave &amp; 35th St       </span></td><td>41.80985</td><td>-87.61628</td><td>41.83138</td><td>-87.61803</td><td>casual</td></tr>\n",
       "\t<tr><td>829BE86F3A587D1C</td><td>classic_bike </td><td>2023-12-03 22:40:24</td><td>2023-12-04 11:04:13</td><td><span style=white-space:pre-wrap>Damen Ave &amp; Madison St             </span></td><td><span style=white-space:pre-wrap>Racine Ave &amp; Congress Pkwy  </span></td><td>41.88137</td><td>-87.67493</td><td>41.87464</td><td>-87.65703</td><td>casual</td></tr>\n",
       "\t<tr><td>681FA19DB62A9988</td><td>classic_bike </td><td>2023-12-04 19:23:28</td><td>2023-12-04 19:26:13</td><td><span style=white-space:pre-wrap>900 W Harrison St                  </span></td><td><span style=white-space:pre-wrap>Racine Ave &amp; Congress Pkwy  </span></td><td>41.87475</td><td>-87.64981</td><td>41.87464</td><td>-87.65703</td><td>casual</td></tr>\n",
       "\t<tr><td>8D66C459ECBCC549</td><td>electric_bike</td><td>2023-12-02 21:39:10</td><td>2023-12-02 21:53:46</td><td><span style=white-space:pre-wrap>Damen Ave &amp; Madison St             </span></td><td><span style=white-space:pre-wrap>Morgan St &amp; Lake St*        </span></td><td>41.88140</td><td>-87.67498</td><td>41.88549</td><td>-87.65229</td><td>casual</td></tr>\n",
       "\t<tr><td>E80184080CFFEB02</td><td>classic_bike </td><td>2023-12-23 21:42:57</td><td>2023-12-23 21:55:44</td><td><span style=white-space:pre-wrap>Damen Ave &amp; Madison St             </span></td><td><span style=white-space:pre-wrap>Morgan St &amp; Lake St*        </span></td><td>41.88137</td><td>-87.67493</td><td>41.88549</td><td>-87.65229</td><td>casual</td></tr>\n",
       "\t<tr><td>F1D6F5B5528DE3C7</td><td>classic_bike </td><td>2023-12-23 21:42:14</td><td>2023-12-23 21:55:00</td><td><span style=white-space:pre-wrap>Damen Ave &amp; Madison St             </span></td><td><span style=white-space:pre-wrap>Morgan St &amp; Lake St*        </span></td><td>41.88137</td><td>-87.67493</td><td>41.88549</td><td>-87.65229</td><td>casual</td></tr>\n",
       "\t<tr><td>D7BD84A380E35573</td><td>classic_bike </td><td>2023-12-10 11:49:12</td><td>2023-12-10 12:28:50</td><td>Mies van der Rohe Way &amp; Chicago Ave</td><td>Milwaukee Ave &amp; Wabansia Ave</td><td>41.89694</td><td>-87.62176</td><td>41.91262</td><td>-87.68139</td><td>member</td></tr>\n",
       "\t<tr><td>522C5B99295B96DF</td><td>classic_bike </td><td>2023-12-01 11:48:55</td><td>2023-12-01 11:52:52</td><td><span style=white-space:pre-wrap>900 W Harrison St                  </span></td><td><span style=white-space:pre-wrap>Racine Ave &amp; Congress Pkwy  </span></td><td>41.87475</td><td>-87.64981</td><td>41.87464</td><td>-87.65703</td><td>casual</td></tr>\n",
       "\t<tr><td>1BB1798B0E4B35A0</td><td>electric_bike</td><td>2023-12-19 12:22:07</td><td>2023-12-19 12:24:17</td><td><span style=white-space:pre-wrap>900 W Harrison St                  </span></td><td><span style=white-space:pre-wrap>Racine Ave &amp; Congress Pkwy  </span></td><td>41.87478</td><td>-87.64980</td><td>41.87464</td><td>-87.65703</td><td>member</td></tr>\n",
       "\t<tr><td>DC1C859F9939E0EA</td><td>classic_bike </td><td>2023-12-17 14:54:40</td><td>2023-12-17 15:14:28</td><td><span style=white-space:pre-wrap>Racine Ave &amp; 18th St               </span></td><td><span style=white-space:pre-wrap>Morgan St &amp; Lake St*        </span></td><td>41.85817</td><td>-87.65650</td><td>41.88549</td><td>-87.65229</td><td>member</td></tr>\n",
       "\t<tr><td>AB675DD0012CBD57</td><td>electric_bike</td><td>2023-12-04 23:34:11</td><td>2023-12-04 23:39:16</td><td><span style=white-space:pre-wrap>Racine Ave &amp; 18th St               </span></td><td><span style=white-space:pre-wrap>Racine Ave &amp; Congress Pkwy  </span></td><td>41.85824</td><td>-87.65638</td><td>41.87464</td><td>-87.65703</td><td>member</td></tr>\n",
       "\t<tr><td>F74DF9549B504A6B</td><td>electric_bike</td><td>2023-12-07 13:15:24</td><td>2023-12-07 13:17:37</td><td><span style=white-space:pre-wrap>900 W Harrison St                  </span></td><td><span style=white-space:pre-wrap>Racine Ave &amp; Congress Pkwy  </span></td><td>41.87470</td><td>-87.64980</td><td>41.87464</td><td>-87.65703</td><td>casual</td></tr>\n",
       "\t<tr><td>BCDA66E761CC1029</td><td>classic_bike </td><td>2023-12-08 18:42:21</td><td>2023-12-08 18:45:56</td><td><span style=white-space:pre-wrap>900 W Harrison St                  </span></td><td><span style=white-space:pre-wrap>Racine Ave &amp; Congress Pkwy  </span></td><td>41.87475</td><td>-87.64981</td><td>41.87464</td><td>-87.65703</td><td>casual</td></tr>\n",
       "\t<tr><td>D2CF330F9C266683</td><td>classic_bike </td><td>2023-12-05 14:09:11</td><td>2023-12-05 14:13:01</td><td><span style=white-space:pre-wrap>900 W Harrison St                  </span></td><td><span style=white-space:pre-wrap>Racine Ave &amp; Congress Pkwy  </span></td><td>41.87475</td><td>-87.64981</td><td>41.87464</td><td>-87.65703</td><td>member</td></tr>\n",
       "\t<tr><td>3829A0D1E00EE970</td><td>electric_bike</td><td>2023-12-02 21:36:07</td><td>2023-12-02 21:53:45</td><td><span style=white-space:pre-wrap>Damen Ave &amp; Madison St             </span></td><td><span style=white-space:pre-wrap>Morgan St &amp; Lake St*        </span></td><td>41.88140</td><td>-87.67498</td><td>41.88549</td><td>-87.65229</td><td>casual</td></tr>\n",
       "\t<tr><td>A373F5B447AEA508</td><td>classic_bike </td><td>2023-12-11 13:07:46</td><td>2023-12-11 13:11:24</td><td><span style=white-space:pre-wrap>900 W Harrison St                  </span></td><td><span style=white-space:pre-wrap>Racine Ave &amp; Congress Pkwy  </span></td><td>41.87475</td><td>-87.64981</td><td>41.87464</td><td>-87.65703</td><td>member</td></tr>\n",
       "</tbody>\n",
       "</table>\n"
      ],
      "text/latex": [
       "A tibble: 4314780 × 11\n",
       "\\begin{tabular}{lllllllllll}\n",
       " ride\\_id & bike\\_type & started\\_at & ended\\_at & start\\_station\\_name & end\\_station\\_name & start\\_lat & start\\_lng & end\\_lat & end\\_lng & user\\_type\\\\\n",
       " <chr> & <chr> & <dttm> & <dttm> & <chr> & <chr> & <dbl> & <dbl> & <dbl> & <dbl> & <chr>\\\\\n",
       "\\hline\n",
       "\t C1D650626C8C899A & electric\\_bike & 2024-01-12 15:30:27 & 2024-01-12 15:37:59 & Wells St \\& Elm St                   & Kingsbury St \\& Kinzie St  & 41.90327 & -87.63474 & 41.88918 & -87.63851 & member\\\\\n",
       "\t EECD38BDB25BFCB0 & electric\\_bike & 2024-01-08 15:45:46 & 2024-01-08 15:52:59 & Wells St \\& Elm St                   & Kingsbury St \\& Kinzie St  & 41.90294 & -87.63444 & 41.88918 & -87.63851 & member\\\\\n",
       "\t F4A9CE78061F17F7 & electric\\_bike & 2024-01-27 12:27:19 & 2024-01-27 12:35:19 & Wells St \\& Elm St                   & Kingsbury St \\& Kinzie St  & 41.90295 & -87.63447 & 41.88918 & -87.63851 & member\\\\\n",
       "\t 0A0D9E15EE50B171 & classic\\_bike  & 2024-01-29 16:26:17 & 2024-01-29 16:56:06 & Wells St \\& Randolph St              & Larrabee St \\& Webster Ave & 41.88430 & -87.63396 & 41.92182 & -87.64414 & member\\\\\n",
       "\t 33FFC9805E3EFF9A & classic\\_bike  & 2024-01-31 05:43:23 & 2024-01-31 06:09:35 & Lincoln Ave \\& Waveland Ave          & Kingsbury St \\& Kinzie St  & 41.94880 & -87.67528 & 41.88918 & -87.63851 & member\\\\\n",
       "\t C96080812CD285C5 & classic\\_bike  & 2024-01-07 11:21:24 & 2024-01-07 11:30:03 & Wells St \\& Elm St                   & Kingsbury St \\& Kinzie St  & 41.90322 & -87.63432 & 41.88918 & -87.63851 & member\\\\\n",
       "\t 0EA7CB313D4F456A & classic\\_bike  & 2024-01-05 14:44:12 & 2024-01-05 14:53:06 & Wells St \\& Elm St                   & Kingsbury St \\& Kinzie St  & 41.90322 & -87.63432 & 41.88918 & -87.63851 & member\\\\\n",
       "\t EE11F3A3B39CFBD8 & electric\\_bike & 2024-01-04 18:19:53 & 2024-01-04 18:28:04 & Wells St \\& Elm St                   & Kingsbury St \\& Kinzie St  & 41.90337 & -87.63486 & 41.88918 & -87.63851 & member\\\\\n",
       "\t 63E83DE8E3279F15 & classic\\_bike  & 2024-01-01 14:46:53 & 2024-01-01 14:57:02 & Wells St \\& Elm St                   & Kingsbury St \\& Kinzie St  & 41.90322 & -87.63432 & 41.88918 & -87.63851 & member\\\\\n",
       "\t 8005682869122D93 & electric\\_bike & 2024-01-03 19:31:08 & 2024-01-03 19:40:05 & Clark St \\& Ida B Wells Dr           & Kingsbury St \\& Kinzie St  & 41.87603 & -87.63087 & 41.88918 & -87.63851 & member\\\\\n",
       "\t 22B85E685AE0D490 & electric\\_bike & 2024-01-03 07:39:20 & 2024-01-03 07:47:12 & Wells St \\& Elm St                   & Kingsbury St \\& Kinzie St  & 41.90303 & -87.63461 & 41.88918 & -87.63851 & member\\\\\n",
       "\t 133CDC03CA430172 & classic\\_bike  & 2024-01-03 17:03:11 & 2024-01-03 17:13:15 & Wells St \\& Elm St                   & Kingsbury St \\& Kinzie St  & 41.90322 & -87.63432 & 41.88918 & -87.63851 & member\\\\\n",
       "\t 32D57BF92858025D & electric\\_bike & 2024-01-10 17:04:09 & 2024-01-10 17:11:40 & Wells St \\& Elm St                   & Kingsbury St \\& Kinzie St  & 41.90315 & -87.63458 & 41.88918 & -87.63851 & member\\\\\n",
       "\t B110B5685C38D69B & electric\\_bike & 2024-01-12 12:35:14 & 2024-01-12 12:43:34 & Clark St \\& Ida B Wells Dr           & Kingsbury St \\& Kinzie St  & 41.87585 & -87.63093 & 41.88918 & -87.63851 & member\\\\\n",
       "\t B6608710B5FA0938 & electric\\_bike & 2024-01-07 08:00:19 & 2024-01-07 08:06:46 & Clark St \\& Ida B Wells Dr           & Kingsbury St \\& Kinzie St  & 41.87557 & -87.63078 & 41.88918 & -87.63851 & member\\\\\n",
       "\t E7A33AC59F174164 & electric\\_bike & 2024-01-24 08:28:31 & 2024-01-24 08:32:13 & Clark St \\& Randolph St              & Kingsbury St \\& Kinzie St  & 41.88417 & -87.63209 & 41.88918 & -87.63851 & member\\\\\n",
       "\t BAC650B3CFE6160E & electric\\_bike & 2024-01-13 11:18:54 & 2024-01-13 11:25:16 & Wells St \\& Elm St                   & Kingsbury St \\& Kinzie St  & 41.90303 & -87.63462 & 41.88918 & -87.63851 & member\\\\\n",
       "\t C6CC4B54F874526D & electric\\_bike & 2024-01-24 18:52:19 & 2024-01-24 19:04:16 & Sheffield Ave \\& Kingsbury St        & Aberdeen St \\& Randolph St & 41.91062 & -87.65314 & 41.88411 & -87.65426 & member\\\\\n",
       "\t A7BDDCFEDF01FC88 & classic\\_bike  & 2024-01-27 13:12:24 & 2024-01-27 13:19:35 & Wells St \\& Elm St                   & Kingsbury St \\& Kinzie St  & 41.90322 & -87.63432 & 41.88918 & -87.63851 & member\\\\\n",
       "\t E247F34BF1F9D880 & electric\\_bike & 2024-01-05 13:15:24 & 2024-01-05 13:21:41 & Clark St \\& Randolph St              & Aberdeen St \\& Randolph St & 41.88530 & -87.63225 & 41.88411 & -87.65426 & member\\\\\n",
       "\t ABB990CC5347FFE4 & classic\\_bike  & 2024-01-29 14:52:32 & 2024-01-29 15:02:32 & Wells St \\& Elm St                   & Kingsbury St \\& Kinzie St  & 41.90322 & -87.63432 & 41.88918 & -87.63851 & member\\\\\n",
       "\t B94F514DEB4BFA5D & classic\\_bike  & 2024-01-27 11:57:12 & 2024-01-27 11:59:17 & Orleans St \\& Merchandise Mart Plaza & Kingsbury St \\& Kinzie St  & 41.88824 & -87.63639 & 41.88918 & -87.63851 & member\\\\\n",
       "\t 6D6DAFC2690671FD & classic\\_bike  & 2024-01-07 11:17:55 & 2024-01-07 11:21:16 & Orleans St \\& Merchandise Mart Plaza & Kingsbury St \\& Kinzie St  & 41.88824 & -87.63639 & 41.88918 & -87.63851 & member\\\\\n",
       "\t A66C4E711B385BF8 & classic\\_bike  & 2024-01-04 10:45:43 & 2024-01-04 10:53:34 & Wells St \\& Elm St                   & Kingsbury St \\& Kinzie St  & 41.90322 & -87.63432 & 41.88918 & -87.63851 & member\\\\\n",
       "\t 2A7C772836F761A4 & classic\\_bike  & 2024-01-27 14:12:40 & 2024-01-27 14:24:23 & Winchester Ave \\& Elston Ave         & Larrabee St \\& Webster Ave & 41.92409 & -87.67646 & 41.92182 & -87.64414 & member\\\\\n",
       "\t 8835DEA62C38580A & classic\\_bike  & 2024-01-04 14:52:25 & 2024-01-04 15:05:04 & Sheffield Ave \\& Kingsbury St        & Kingsbury St \\& Kinzie St  & 41.91052 & -87.65311 & 41.88918 & -87.63851 & member\\\\\n",
       "\t 018801ABB9AA7035 & classic\\_bike  & 2024-01-17 17:35:27 & 2024-01-17 17:46:14 & Wells St \\& Elm St                   & Larrabee St \\& Webster Ave & 41.90322 & -87.63432 & 41.92182 & -87.64414 & member\\\\\n",
       "\t C9C9DB2C6ED94D62 & classic\\_bike  & 2024-01-27 13:17:09 & 2024-01-27 13:30:32 & Clarendon Ave \\& Junior Ter          & Wilton Ave \\& Belmont Ave  & 41.96100 & -87.64960 & 41.94023 & -87.65294 & member\\\\\n",
       "\t A12F77985790C6C9 & electric\\_bike & 2024-01-04 18:10:46 & 2024-01-04 18:16:42 & Wells St \\& Elm St                   & Kingsbury St \\& Kinzie St  & 41.90319 & -87.63428 & 41.88918 & -87.63851 & member\\\\\n",
       "\t D386AB9FA3ED6747 & classic\\_bike  & 2024-01-07 17:28:11 & 2024-01-07 17:45:34 & Orleans St \\& Merchandise Mart Plaza & Larrabee St \\& Webster Ave & 41.88824 & -87.63639 & 41.92182 & -87.64414 & member\\\\\n",
       "\t ⋮ & ⋮ & ⋮ & ⋮ & ⋮ & ⋮ & ⋮ & ⋮ & ⋮ & ⋮ & ⋮\\\\\n",
       "\t 19A84AA53CF2F73D & electric\\_bike & 2023-12-05 07:27:35 & 2023-12-05 07:30:16 & State St \\& Randolph St              & LaSalle St \\& Washington St   & 41.88501 & -87.62796 & 41.88266 & -87.63253 & member\\\\\n",
       "\t 0BB8BE7F36828383 & classic\\_bike  & 2023-12-06 06:43:21 & 2023-12-06 06:47:07 & Stave St \\& Armitage Ave             & Milwaukee Ave \\& Wabansia Ave & 41.91774 & -87.69139 & 41.91262 & -87.68139 & member\\\\\n",
       "\t 5EF36E585E6BB993 & classic\\_bike  & 2023-12-16 18:44:40 & 2023-12-16 18:48:00 & 900 W Harrison St                   & Racine Ave \\& Congress Pkwy   & 41.87475 & -87.64981 & 41.87464 & -87.65703 & member\\\\\n",
       "\t B270C5C8FD4F4850 & classic\\_bike  & 2023-12-01 21:17:55 & 2023-12-01 21:21:12 & 900 W Harrison St                   & Racine Ave \\& Congress Pkwy   & 41.87475 & -87.64981 & 41.87464 & -87.65703 & member\\\\\n",
       "\t 3C45AEFA28CEAFD4 & classic\\_bike  & 2023-12-09 19:09:58 & 2023-12-09 19:13:21 & 900 W Harrison St                   & Racine Ave \\& Congress Pkwy   & 41.87475 & -87.64981 & 41.87464 & -87.65703 & member\\\\\n",
       "\t 11AFDE89FFFF018D & classic\\_bike  & 2023-12-26 18:13:41 & 2023-12-26 18:18:46 & 900 W Harrison St                   & Racine Ave \\& Congress Pkwy   & 41.87475 & -87.64981 & 41.87464 & -87.65703 & member\\\\\n",
       "\t 6D427553ADD4E80C & classic\\_bike  & 2023-12-29 11:09:37 & 2023-12-29 11:13:10 & 900 W Harrison St                   & Racine Ave \\& Congress Pkwy   & 41.87475 & -87.64981 & 41.87464 & -87.65703 & member\\\\\n",
       "\t DC85C06F5E6E8EB3 & classic\\_bike  & 2023-12-04 12:24:13 & 2023-12-04 12:32:28 & Damen Ave/Coulter St                & Ashland Ave \\& Archer Ave     & 41.84920 & -87.67564 & 41.83921 & -87.66561 & member\\\\\n",
       "\t 742C83265811C76B & classic\\_bike  & 2023-12-14 17:39:54 & 2023-12-14 17:42:29 & 900 W Harrison St                   & Racine Ave \\& Congress Pkwy   & 41.87475 & -87.64981 & 41.87464 & -87.65703 & member\\\\\n",
       "\t 42AD67EB965D9369 & electric\\_bike & 2023-12-01 12:48:08 & 2023-12-01 13:02:26 & Racine Ave \\& 18th St                & Morgan St \\& Lake St*         & 41.85829 & -87.65635 & 41.88549 & -87.65229 & member\\\\\n",
       "\t 52FF3FC5635F9561 & classic\\_bike  & 2023-12-07 11:39:41 & 2023-12-07 11:42:57 & 900 W Harrison St                   & Racine Ave \\& Congress Pkwy   & 41.87475 & -87.64981 & 41.87464 & -87.65703 & member\\\\\n",
       "\t 7C679A3BAE8CDCB4 & classic\\_bike  & 2023-12-12 21:39:14 & 2023-12-12 21:51:16 & Damen Ave \\& Madison St              & Morgan St \\& Lake St*         & 41.88137 & -87.67493 & 41.88549 & -87.65229 & member\\\\\n",
       "\t 5169FBC5AC523376 & electric\\_bike & 2023-12-06 12:04:30 & 2023-12-06 12:15:07 & Racine Ave \\& 18th St                & LaSalle St \\& Washington St   & 41.85832 & -87.65650 & 41.88266 & -87.63253 & casual\\\\\n",
       "\t 790C9497DB0CF986 & electric\\_bike & 2023-12-21 13:55:23 & 2023-12-21 13:57:51 & 900 W Harrison St                   & Racine Ave \\& Congress Pkwy   & 41.87472 & -87.64988 & 41.87464 & -87.65703 & casual\\\\\n",
       "\t CCE83C38F4D91EFB & classic\\_bike  & 2023-12-21 13:38:56 & 2023-12-21 13:48:12 & MLK Jr Dr \\& 47th St                 & Calumet Ave \\& 35th St        & 41.80985 & -87.61628 & 41.83138 & -87.61803 & casual\\\\\n",
       "\t 829BE86F3A587D1C & classic\\_bike  & 2023-12-03 22:40:24 & 2023-12-04 11:04:13 & Damen Ave \\& Madison St              & Racine Ave \\& Congress Pkwy   & 41.88137 & -87.67493 & 41.87464 & -87.65703 & casual\\\\\n",
       "\t 681FA19DB62A9988 & classic\\_bike  & 2023-12-04 19:23:28 & 2023-12-04 19:26:13 & 900 W Harrison St                   & Racine Ave \\& Congress Pkwy   & 41.87475 & -87.64981 & 41.87464 & -87.65703 & casual\\\\\n",
       "\t 8D66C459ECBCC549 & electric\\_bike & 2023-12-02 21:39:10 & 2023-12-02 21:53:46 & Damen Ave \\& Madison St              & Morgan St \\& Lake St*         & 41.88140 & -87.67498 & 41.88549 & -87.65229 & casual\\\\\n",
       "\t E80184080CFFEB02 & classic\\_bike  & 2023-12-23 21:42:57 & 2023-12-23 21:55:44 & Damen Ave \\& Madison St              & Morgan St \\& Lake St*         & 41.88137 & -87.67493 & 41.88549 & -87.65229 & casual\\\\\n",
       "\t F1D6F5B5528DE3C7 & classic\\_bike  & 2023-12-23 21:42:14 & 2023-12-23 21:55:00 & Damen Ave \\& Madison St              & Morgan St \\& Lake St*         & 41.88137 & -87.67493 & 41.88549 & -87.65229 & casual\\\\\n",
       "\t D7BD84A380E35573 & classic\\_bike  & 2023-12-10 11:49:12 & 2023-12-10 12:28:50 & Mies van der Rohe Way \\& Chicago Ave & Milwaukee Ave \\& Wabansia Ave & 41.89694 & -87.62176 & 41.91262 & -87.68139 & member\\\\\n",
       "\t 522C5B99295B96DF & classic\\_bike  & 2023-12-01 11:48:55 & 2023-12-01 11:52:52 & 900 W Harrison St                   & Racine Ave \\& Congress Pkwy   & 41.87475 & -87.64981 & 41.87464 & -87.65703 & casual\\\\\n",
       "\t 1BB1798B0E4B35A0 & electric\\_bike & 2023-12-19 12:22:07 & 2023-12-19 12:24:17 & 900 W Harrison St                   & Racine Ave \\& Congress Pkwy   & 41.87478 & -87.64980 & 41.87464 & -87.65703 & member\\\\\n",
       "\t DC1C859F9939E0EA & classic\\_bike  & 2023-12-17 14:54:40 & 2023-12-17 15:14:28 & Racine Ave \\& 18th St                & Morgan St \\& Lake St*         & 41.85817 & -87.65650 & 41.88549 & -87.65229 & member\\\\\n",
       "\t AB675DD0012CBD57 & electric\\_bike & 2023-12-04 23:34:11 & 2023-12-04 23:39:16 & Racine Ave \\& 18th St                & Racine Ave \\& Congress Pkwy   & 41.85824 & -87.65638 & 41.87464 & -87.65703 & member\\\\\n",
       "\t F74DF9549B504A6B & electric\\_bike & 2023-12-07 13:15:24 & 2023-12-07 13:17:37 & 900 W Harrison St                   & Racine Ave \\& Congress Pkwy   & 41.87470 & -87.64980 & 41.87464 & -87.65703 & casual\\\\\n",
       "\t BCDA66E761CC1029 & classic\\_bike  & 2023-12-08 18:42:21 & 2023-12-08 18:45:56 & 900 W Harrison St                   & Racine Ave \\& Congress Pkwy   & 41.87475 & -87.64981 & 41.87464 & -87.65703 & casual\\\\\n",
       "\t D2CF330F9C266683 & classic\\_bike  & 2023-12-05 14:09:11 & 2023-12-05 14:13:01 & 900 W Harrison St                   & Racine Ave \\& Congress Pkwy   & 41.87475 & -87.64981 & 41.87464 & -87.65703 & member\\\\\n",
       "\t 3829A0D1E00EE970 & electric\\_bike & 2023-12-02 21:36:07 & 2023-12-02 21:53:45 & Damen Ave \\& Madison St              & Morgan St \\& Lake St*         & 41.88140 & -87.67498 & 41.88549 & -87.65229 & casual\\\\\n",
       "\t A373F5B447AEA508 & classic\\_bike  & 2023-12-11 13:07:46 & 2023-12-11 13:11:24 & 900 W Harrison St                   & Racine Ave \\& Congress Pkwy   & 41.87475 & -87.64981 & 41.87464 & -87.65703 & member\\\\\n",
       "\\end{tabular}\n"
      ],
      "text/markdown": [
       "\n",
       "A tibble: 4314780 × 11\n",
       "\n",
       "| ride_id &lt;chr&gt; | bike_type &lt;chr&gt; | started_at &lt;dttm&gt; | ended_at &lt;dttm&gt; | start_station_name &lt;chr&gt; | end_station_name &lt;chr&gt; | start_lat &lt;dbl&gt; | start_lng &lt;dbl&gt; | end_lat &lt;dbl&gt; | end_lng &lt;dbl&gt; | user_type &lt;chr&gt; |\n",
       "|---|---|---|---|---|---|---|---|---|---|---|\n",
       "| C1D650626C8C899A | electric_bike | 2024-01-12 15:30:27 | 2024-01-12 15:37:59 | Wells St &amp; Elm St                   | Kingsbury St &amp; Kinzie St  | 41.90327 | -87.63474 | 41.88918 | -87.63851 | member |\n",
       "| EECD38BDB25BFCB0 | electric_bike | 2024-01-08 15:45:46 | 2024-01-08 15:52:59 | Wells St &amp; Elm St                   | Kingsbury St &amp; Kinzie St  | 41.90294 | -87.63444 | 41.88918 | -87.63851 | member |\n",
       "| F4A9CE78061F17F7 | electric_bike | 2024-01-27 12:27:19 | 2024-01-27 12:35:19 | Wells St &amp; Elm St                   | Kingsbury St &amp; Kinzie St  | 41.90295 | -87.63447 | 41.88918 | -87.63851 | member |\n",
       "| 0A0D9E15EE50B171 | classic_bike  | 2024-01-29 16:26:17 | 2024-01-29 16:56:06 | Wells St &amp; Randolph St              | Larrabee St &amp; Webster Ave | 41.88430 | -87.63396 | 41.92182 | -87.64414 | member |\n",
       "| 33FFC9805E3EFF9A | classic_bike  | 2024-01-31 05:43:23 | 2024-01-31 06:09:35 | Lincoln Ave &amp; Waveland Ave          | Kingsbury St &amp; Kinzie St  | 41.94880 | -87.67528 | 41.88918 | -87.63851 | member |\n",
       "| C96080812CD285C5 | classic_bike  | 2024-01-07 11:21:24 | 2024-01-07 11:30:03 | Wells St &amp; Elm St                   | Kingsbury St &amp; Kinzie St  | 41.90322 | -87.63432 | 41.88918 | -87.63851 | member |\n",
       "| 0EA7CB313D4F456A | classic_bike  | 2024-01-05 14:44:12 | 2024-01-05 14:53:06 | Wells St &amp; Elm St                   | Kingsbury St &amp; Kinzie St  | 41.90322 | -87.63432 | 41.88918 | -87.63851 | member |\n",
       "| EE11F3A3B39CFBD8 | electric_bike | 2024-01-04 18:19:53 | 2024-01-04 18:28:04 | Wells St &amp; Elm St                   | Kingsbury St &amp; Kinzie St  | 41.90337 | -87.63486 | 41.88918 | -87.63851 | member |\n",
       "| 63E83DE8E3279F15 | classic_bike  | 2024-01-01 14:46:53 | 2024-01-01 14:57:02 | Wells St &amp; Elm St                   | Kingsbury St &amp; Kinzie St  | 41.90322 | -87.63432 | 41.88918 | -87.63851 | member |\n",
       "| 8005682869122D93 | electric_bike | 2024-01-03 19:31:08 | 2024-01-03 19:40:05 | Clark St &amp; Ida B Wells Dr           | Kingsbury St &amp; Kinzie St  | 41.87603 | -87.63087 | 41.88918 | -87.63851 | member |\n",
       "| 22B85E685AE0D490 | electric_bike | 2024-01-03 07:39:20 | 2024-01-03 07:47:12 | Wells St &amp; Elm St                   | Kingsbury St &amp; Kinzie St  | 41.90303 | -87.63461 | 41.88918 | -87.63851 | member |\n",
       "| 133CDC03CA430172 | classic_bike  | 2024-01-03 17:03:11 | 2024-01-03 17:13:15 | Wells St &amp; Elm St                   | Kingsbury St &amp; Kinzie St  | 41.90322 | -87.63432 | 41.88918 | -87.63851 | member |\n",
       "| 32D57BF92858025D | electric_bike | 2024-01-10 17:04:09 | 2024-01-10 17:11:40 | Wells St &amp; Elm St                   | Kingsbury St &amp; Kinzie St  | 41.90315 | -87.63458 | 41.88918 | -87.63851 | member |\n",
       "| B110B5685C38D69B | electric_bike | 2024-01-12 12:35:14 | 2024-01-12 12:43:34 | Clark St &amp; Ida B Wells Dr           | Kingsbury St &amp; Kinzie St  | 41.87585 | -87.63093 | 41.88918 | -87.63851 | member |\n",
       "| B6608710B5FA0938 | electric_bike | 2024-01-07 08:00:19 | 2024-01-07 08:06:46 | Clark St &amp; Ida B Wells Dr           | Kingsbury St &amp; Kinzie St  | 41.87557 | -87.63078 | 41.88918 | -87.63851 | member |\n",
       "| E7A33AC59F174164 | electric_bike | 2024-01-24 08:28:31 | 2024-01-24 08:32:13 | Clark St &amp; Randolph St              | Kingsbury St &amp; Kinzie St  | 41.88417 | -87.63209 | 41.88918 | -87.63851 | member |\n",
       "| BAC650B3CFE6160E | electric_bike | 2024-01-13 11:18:54 | 2024-01-13 11:25:16 | Wells St &amp; Elm St                   | Kingsbury St &amp; Kinzie St  | 41.90303 | -87.63462 | 41.88918 | -87.63851 | member |\n",
       "| C6CC4B54F874526D | electric_bike | 2024-01-24 18:52:19 | 2024-01-24 19:04:16 | Sheffield Ave &amp; Kingsbury St        | Aberdeen St &amp; Randolph St | 41.91062 | -87.65314 | 41.88411 | -87.65426 | member |\n",
       "| A7BDDCFEDF01FC88 | classic_bike  | 2024-01-27 13:12:24 | 2024-01-27 13:19:35 | Wells St &amp; Elm St                   | Kingsbury St &amp; Kinzie St  | 41.90322 | -87.63432 | 41.88918 | -87.63851 | member |\n",
       "| E247F34BF1F9D880 | electric_bike | 2024-01-05 13:15:24 | 2024-01-05 13:21:41 | Clark St &amp; Randolph St              | Aberdeen St &amp; Randolph St | 41.88530 | -87.63225 | 41.88411 | -87.65426 | member |\n",
       "| ABB990CC5347FFE4 | classic_bike  | 2024-01-29 14:52:32 | 2024-01-29 15:02:32 | Wells St &amp; Elm St                   | Kingsbury St &amp; Kinzie St  | 41.90322 | -87.63432 | 41.88918 | -87.63851 | member |\n",
       "| B94F514DEB4BFA5D | classic_bike  | 2024-01-27 11:57:12 | 2024-01-27 11:59:17 | Orleans St &amp; Merchandise Mart Plaza | Kingsbury St &amp; Kinzie St  | 41.88824 | -87.63639 | 41.88918 | -87.63851 | member |\n",
       "| 6D6DAFC2690671FD | classic_bike  | 2024-01-07 11:17:55 | 2024-01-07 11:21:16 | Orleans St &amp; Merchandise Mart Plaza | Kingsbury St &amp; Kinzie St  | 41.88824 | -87.63639 | 41.88918 | -87.63851 | member |\n",
       "| A66C4E711B385BF8 | classic_bike  | 2024-01-04 10:45:43 | 2024-01-04 10:53:34 | Wells St &amp; Elm St                   | Kingsbury St &amp; Kinzie St  | 41.90322 | -87.63432 | 41.88918 | -87.63851 | member |\n",
       "| 2A7C772836F761A4 | classic_bike  | 2024-01-27 14:12:40 | 2024-01-27 14:24:23 | Winchester Ave &amp; Elston Ave         | Larrabee St &amp; Webster Ave | 41.92409 | -87.67646 | 41.92182 | -87.64414 | member |\n",
       "| 8835DEA62C38580A | classic_bike  | 2024-01-04 14:52:25 | 2024-01-04 15:05:04 | Sheffield Ave &amp; Kingsbury St        | Kingsbury St &amp; Kinzie St  | 41.91052 | -87.65311 | 41.88918 | -87.63851 | member |\n",
       "| 018801ABB9AA7035 | classic_bike  | 2024-01-17 17:35:27 | 2024-01-17 17:46:14 | Wells St &amp; Elm St                   | Larrabee St &amp; Webster Ave | 41.90322 | -87.63432 | 41.92182 | -87.64414 | member |\n",
       "| C9C9DB2C6ED94D62 | classic_bike  | 2024-01-27 13:17:09 | 2024-01-27 13:30:32 | Clarendon Ave &amp; Junior Ter          | Wilton Ave &amp; Belmont Ave  | 41.96100 | -87.64960 | 41.94023 | -87.65294 | member |\n",
       "| A12F77985790C6C9 | electric_bike | 2024-01-04 18:10:46 | 2024-01-04 18:16:42 | Wells St &amp; Elm St                   | Kingsbury St &amp; Kinzie St  | 41.90319 | -87.63428 | 41.88918 | -87.63851 | member |\n",
       "| D386AB9FA3ED6747 | classic_bike  | 2024-01-07 17:28:11 | 2024-01-07 17:45:34 | Orleans St &amp; Merchandise Mart Plaza | Larrabee St &amp; Webster Ave | 41.88824 | -87.63639 | 41.92182 | -87.64414 | member |\n",
       "| ⋮ | ⋮ | ⋮ | ⋮ | ⋮ | ⋮ | ⋮ | ⋮ | ⋮ | ⋮ | ⋮ |\n",
       "| 19A84AA53CF2F73D | electric_bike | 2023-12-05 07:27:35 | 2023-12-05 07:30:16 | State St &amp; Randolph St              | LaSalle St &amp; Washington St   | 41.88501 | -87.62796 | 41.88266 | -87.63253 | member |\n",
       "| 0BB8BE7F36828383 | classic_bike  | 2023-12-06 06:43:21 | 2023-12-06 06:47:07 | Stave St &amp; Armitage Ave             | Milwaukee Ave &amp; Wabansia Ave | 41.91774 | -87.69139 | 41.91262 | -87.68139 | member |\n",
       "| 5EF36E585E6BB993 | classic_bike  | 2023-12-16 18:44:40 | 2023-12-16 18:48:00 | 900 W Harrison St                   | Racine Ave &amp; Congress Pkwy   | 41.87475 | -87.64981 | 41.87464 | -87.65703 | member |\n",
       "| B270C5C8FD4F4850 | classic_bike  | 2023-12-01 21:17:55 | 2023-12-01 21:21:12 | 900 W Harrison St                   | Racine Ave &amp; Congress Pkwy   | 41.87475 | -87.64981 | 41.87464 | -87.65703 | member |\n",
       "| 3C45AEFA28CEAFD4 | classic_bike  | 2023-12-09 19:09:58 | 2023-12-09 19:13:21 | 900 W Harrison St                   | Racine Ave &amp; Congress Pkwy   | 41.87475 | -87.64981 | 41.87464 | -87.65703 | member |\n",
       "| 11AFDE89FFFF018D | classic_bike  | 2023-12-26 18:13:41 | 2023-12-26 18:18:46 | 900 W Harrison St                   | Racine Ave &amp; Congress Pkwy   | 41.87475 | -87.64981 | 41.87464 | -87.65703 | member |\n",
       "| 6D427553ADD4E80C | classic_bike  | 2023-12-29 11:09:37 | 2023-12-29 11:13:10 | 900 W Harrison St                   | Racine Ave &amp; Congress Pkwy   | 41.87475 | -87.64981 | 41.87464 | -87.65703 | member |\n",
       "| DC85C06F5E6E8EB3 | classic_bike  | 2023-12-04 12:24:13 | 2023-12-04 12:32:28 | Damen Ave/Coulter St                | Ashland Ave &amp; Archer Ave     | 41.84920 | -87.67564 | 41.83921 | -87.66561 | member |\n",
       "| 742C83265811C76B | classic_bike  | 2023-12-14 17:39:54 | 2023-12-14 17:42:29 | 900 W Harrison St                   | Racine Ave &amp; Congress Pkwy   | 41.87475 | -87.64981 | 41.87464 | -87.65703 | member |\n",
       "| 42AD67EB965D9369 | electric_bike | 2023-12-01 12:48:08 | 2023-12-01 13:02:26 | Racine Ave &amp; 18th St                | Morgan St &amp; Lake St*         | 41.85829 | -87.65635 | 41.88549 | -87.65229 | member |\n",
       "| 52FF3FC5635F9561 | classic_bike  | 2023-12-07 11:39:41 | 2023-12-07 11:42:57 | 900 W Harrison St                   | Racine Ave &amp; Congress Pkwy   | 41.87475 | -87.64981 | 41.87464 | -87.65703 | member |\n",
       "| 7C679A3BAE8CDCB4 | classic_bike  | 2023-12-12 21:39:14 | 2023-12-12 21:51:16 | Damen Ave &amp; Madison St              | Morgan St &amp; Lake St*         | 41.88137 | -87.67493 | 41.88549 | -87.65229 | member |\n",
       "| 5169FBC5AC523376 | electric_bike | 2023-12-06 12:04:30 | 2023-12-06 12:15:07 | Racine Ave &amp; 18th St                | LaSalle St &amp; Washington St   | 41.85832 | -87.65650 | 41.88266 | -87.63253 | casual |\n",
       "| 790C9497DB0CF986 | electric_bike | 2023-12-21 13:55:23 | 2023-12-21 13:57:51 | 900 W Harrison St                   | Racine Ave &amp; Congress Pkwy   | 41.87472 | -87.64988 | 41.87464 | -87.65703 | casual |\n",
       "| CCE83C38F4D91EFB | classic_bike  | 2023-12-21 13:38:56 | 2023-12-21 13:48:12 | MLK Jr Dr &amp; 47th St                 | Calumet Ave &amp; 35th St        | 41.80985 | -87.61628 | 41.83138 | -87.61803 | casual |\n",
       "| 829BE86F3A587D1C | classic_bike  | 2023-12-03 22:40:24 | 2023-12-04 11:04:13 | Damen Ave &amp; Madison St              | Racine Ave &amp; Congress Pkwy   | 41.88137 | -87.67493 | 41.87464 | -87.65703 | casual |\n",
       "| 681FA19DB62A9988 | classic_bike  | 2023-12-04 19:23:28 | 2023-12-04 19:26:13 | 900 W Harrison St                   | Racine Ave &amp; Congress Pkwy   | 41.87475 | -87.64981 | 41.87464 | -87.65703 | casual |\n",
       "| 8D66C459ECBCC549 | electric_bike | 2023-12-02 21:39:10 | 2023-12-02 21:53:46 | Damen Ave &amp; Madison St              | Morgan St &amp; Lake St*         | 41.88140 | -87.67498 | 41.88549 | -87.65229 | casual |\n",
       "| E80184080CFFEB02 | classic_bike  | 2023-12-23 21:42:57 | 2023-12-23 21:55:44 | Damen Ave &amp; Madison St              | Morgan St &amp; Lake St*         | 41.88137 | -87.67493 | 41.88549 | -87.65229 | casual |\n",
       "| F1D6F5B5528DE3C7 | classic_bike  | 2023-12-23 21:42:14 | 2023-12-23 21:55:00 | Damen Ave &amp; Madison St              | Morgan St &amp; Lake St*         | 41.88137 | -87.67493 | 41.88549 | -87.65229 | casual |\n",
       "| D7BD84A380E35573 | classic_bike  | 2023-12-10 11:49:12 | 2023-12-10 12:28:50 | Mies van der Rohe Way &amp; Chicago Ave | Milwaukee Ave &amp; Wabansia Ave | 41.89694 | -87.62176 | 41.91262 | -87.68139 | member |\n",
       "| 522C5B99295B96DF | classic_bike  | 2023-12-01 11:48:55 | 2023-12-01 11:52:52 | 900 W Harrison St                   | Racine Ave &amp; Congress Pkwy   | 41.87475 | -87.64981 | 41.87464 | -87.65703 | casual |\n",
       "| 1BB1798B0E4B35A0 | electric_bike | 2023-12-19 12:22:07 | 2023-12-19 12:24:17 | 900 W Harrison St                   | Racine Ave &amp; Congress Pkwy   | 41.87478 | -87.64980 | 41.87464 | -87.65703 | member |\n",
       "| DC1C859F9939E0EA | classic_bike  | 2023-12-17 14:54:40 | 2023-12-17 15:14:28 | Racine Ave &amp; 18th St                | Morgan St &amp; Lake St*         | 41.85817 | -87.65650 | 41.88549 | -87.65229 | member |\n",
       "| AB675DD0012CBD57 | electric_bike | 2023-12-04 23:34:11 | 2023-12-04 23:39:16 | Racine Ave &amp; 18th St                | Racine Ave &amp; Congress Pkwy   | 41.85824 | -87.65638 | 41.87464 | -87.65703 | member |\n",
       "| F74DF9549B504A6B | electric_bike | 2023-12-07 13:15:24 | 2023-12-07 13:17:37 | 900 W Harrison St                   | Racine Ave &amp; Congress Pkwy   | 41.87470 | -87.64980 | 41.87464 | -87.65703 | casual |\n",
       "| BCDA66E761CC1029 | classic_bike  | 2023-12-08 18:42:21 | 2023-12-08 18:45:56 | 900 W Harrison St                   | Racine Ave &amp; Congress Pkwy   | 41.87475 | -87.64981 | 41.87464 | -87.65703 | casual |\n",
       "| D2CF330F9C266683 | classic_bike  | 2023-12-05 14:09:11 | 2023-12-05 14:13:01 | 900 W Harrison St                   | Racine Ave &amp; Congress Pkwy   | 41.87475 | -87.64981 | 41.87464 | -87.65703 | member |\n",
       "| 3829A0D1E00EE970 | electric_bike | 2023-12-02 21:36:07 | 2023-12-02 21:53:45 | Damen Ave &amp; Madison St              | Morgan St &amp; Lake St*         | 41.88140 | -87.67498 | 41.88549 | -87.65229 | casual |\n",
       "| A373F5B447AEA508 | classic_bike  | 2023-12-11 13:07:46 | 2023-12-11 13:11:24 | 900 W Harrison St                   | Racine Ave &amp; Congress Pkwy   | 41.87475 | -87.64981 | 41.87464 | -87.65703 | member |\n",
       "\n"
      ],
      "text/plain": [
       "        ride_id          bike_type     started_at          ended_at           \n",
       "1       C1D650626C8C899A electric_bike 2024-01-12 15:30:27 2024-01-12 15:37:59\n",
       "2       EECD38BDB25BFCB0 electric_bike 2024-01-08 15:45:46 2024-01-08 15:52:59\n",
       "3       F4A9CE78061F17F7 electric_bike 2024-01-27 12:27:19 2024-01-27 12:35:19\n",
       "4       0A0D9E15EE50B171 classic_bike  2024-01-29 16:26:17 2024-01-29 16:56:06\n",
       "5       33FFC9805E3EFF9A classic_bike  2024-01-31 05:43:23 2024-01-31 06:09:35\n",
       "6       C96080812CD285C5 classic_bike  2024-01-07 11:21:24 2024-01-07 11:30:03\n",
       "7       0EA7CB313D4F456A classic_bike  2024-01-05 14:44:12 2024-01-05 14:53:06\n",
       "8       EE11F3A3B39CFBD8 electric_bike 2024-01-04 18:19:53 2024-01-04 18:28:04\n",
       "9       63E83DE8E3279F15 classic_bike  2024-01-01 14:46:53 2024-01-01 14:57:02\n",
       "10      8005682869122D93 electric_bike 2024-01-03 19:31:08 2024-01-03 19:40:05\n",
       "11      22B85E685AE0D490 electric_bike 2024-01-03 07:39:20 2024-01-03 07:47:12\n",
       "12      133CDC03CA430172 classic_bike  2024-01-03 17:03:11 2024-01-03 17:13:15\n",
       "13      32D57BF92858025D electric_bike 2024-01-10 17:04:09 2024-01-10 17:11:40\n",
       "14      B110B5685C38D69B electric_bike 2024-01-12 12:35:14 2024-01-12 12:43:34\n",
       "15      B6608710B5FA0938 electric_bike 2024-01-07 08:00:19 2024-01-07 08:06:46\n",
       "16      E7A33AC59F174164 electric_bike 2024-01-24 08:28:31 2024-01-24 08:32:13\n",
       "17      BAC650B3CFE6160E electric_bike 2024-01-13 11:18:54 2024-01-13 11:25:16\n",
       "18      C6CC4B54F874526D electric_bike 2024-01-24 18:52:19 2024-01-24 19:04:16\n",
       "19      A7BDDCFEDF01FC88 classic_bike  2024-01-27 13:12:24 2024-01-27 13:19:35\n",
       "20      E247F34BF1F9D880 electric_bike 2024-01-05 13:15:24 2024-01-05 13:21:41\n",
       "21      ABB990CC5347FFE4 classic_bike  2024-01-29 14:52:32 2024-01-29 15:02:32\n",
       "22      B94F514DEB4BFA5D classic_bike  2024-01-27 11:57:12 2024-01-27 11:59:17\n",
       "23      6D6DAFC2690671FD classic_bike  2024-01-07 11:17:55 2024-01-07 11:21:16\n",
       "24      A66C4E711B385BF8 classic_bike  2024-01-04 10:45:43 2024-01-04 10:53:34\n",
       "25      2A7C772836F761A4 classic_bike  2024-01-27 14:12:40 2024-01-27 14:24:23\n",
       "26      8835DEA62C38580A classic_bike  2024-01-04 14:52:25 2024-01-04 15:05:04\n",
       "27      018801ABB9AA7035 classic_bike  2024-01-17 17:35:27 2024-01-17 17:46:14\n",
       "28      C9C9DB2C6ED94D62 classic_bike  2024-01-27 13:17:09 2024-01-27 13:30:32\n",
       "29      A12F77985790C6C9 electric_bike 2024-01-04 18:10:46 2024-01-04 18:16:42\n",
       "30      D386AB9FA3ED6747 classic_bike  2024-01-07 17:28:11 2024-01-07 17:45:34\n",
       "⋮       ⋮                ⋮             ⋮                   ⋮                  \n",
       "4314751 19A84AA53CF2F73D electric_bike 2023-12-05 07:27:35 2023-12-05 07:30:16\n",
       "4314752 0BB8BE7F36828383 classic_bike  2023-12-06 06:43:21 2023-12-06 06:47:07\n",
       "4314753 5EF36E585E6BB993 classic_bike  2023-12-16 18:44:40 2023-12-16 18:48:00\n",
       "4314754 B270C5C8FD4F4850 classic_bike  2023-12-01 21:17:55 2023-12-01 21:21:12\n",
       "4314755 3C45AEFA28CEAFD4 classic_bike  2023-12-09 19:09:58 2023-12-09 19:13:21\n",
       "4314756 11AFDE89FFFF018D classic_bike  2023-12-26 18:13:41 2023-12-26 18:18:46\n",
       "4314757 6D427553ADD4E80C classic_bike  2023-12-29 11:09:37 2023-12-29 11:13:10\n",
       "4314758 DC85C06F5E6E8EB3 classic_bike  2023-12-04 12:24:13 2023-12-04 12:32:28\n",
       "4314759 742C83265811C76B classic_bike  2023-12-14 17:39:54 2023-12-14 17:42:29\n",
       "4314760 42AD67EB965D9369 electric_bike 2023-12-01 12:48:08 2023-12-01 13:02:26\n",
       "4314761 52FF3FC5635F9561 classic_bike  2023-12-07 11:39:41 2023-12-07 11:42:57\n",
       "4314762 7C679A3BAE8CDCB4 classic_bike  2023-12-12 21:39:14 2023-12-12 21:51:16\n",
       "4314763 5169FBC5AC523376 electric_bike 2023-12-06 12:04:30 2023-12-06 12:15:07\n",
       "4314764 790C9497DB0CF986 electric_bike 2023-12-21 13:55:23 2023-12-21 13:57:51\n",
       "4314765 CCE83C38F4D91EFB classic_bike  2023-12-21 13:38:56 2023-12-21 13:48:12\n",
       "4314766 829BE86F3A587D1C classic_bike  2023-12-03 22:40:24 2023-12-04 11:04:13\n",
       "4314767 681FA19DB62A9988 classic_bike  2023-12-04 19:23:28 2023-12-04 19:26:13\n",
       "4314768 8D66C459ECBCC549 electric_bike 2023-12-02 21:39:10 2023-12-02 21:53:46\n",
       "4314769 E80184080CFFEB02 classic_bike  2023-12-23 21:42:57 2023-12-23 21:55:44\n",
       "4314770 F1D6F5B5528DE3C7 classic_bike  2023-12-23 21:42:14 2023-12-23 21:55:00\n",
       "4314771 D7BD84A380E35573 classic_bike  2023-12-10 11:49:12 2023-12-10 12:28:50\n",
       "4314772 522C5B99295B96DF classic_bike  2023-12-01 11:48:55 2023-12-01 11:52:52\n",
       "4314773 1BB1798B0E4B35A0 electric_bike 2023-12-19 12:22:07 2023-12-19 12:24:17\n",
       "4314774 DC1C859F9939E0EA classic_bike  2023-12-17 14:54:40 2023-12-17 15:14:28\n",
       "4314775 AB675DD0012CBD57 electric_bike 2023-12-04 23:34:11 2023-12-04 23:39:16\n",
       "4314776 F74DF9549B504A6B electric_bike 2023-12-07 13:15:24 2023-12-07 13:17:37\n",
       "4314777 BCDA66E761CC1029 classic_bike  2023-12-08 18:42:21 2023-12-08 18:45:56\n",
       "4314778 D2CF330F9C266683 classic_bike  2023-12-05 14:09:11 2023-12-05 14:13:01\n",
       "4314779 3829A0D1E00EE970 electric_bike 2023-12-02 21:36:07 2023-12-02 21:53:45\n",
       "4314780 A373F5B447AEA508 classic_bike  2023-12-11 13:07:46 2023-12-11 13:11:24\n",
       "        start_station_name                  end_station_name            \n",
       "1       Wells St & Elm St                   Kingsbury St & Kinzie St    \n",
       "2       Wells St & Elm St                   Kingsbury St & Kinzie St    \n",
       "3       Wells St & Elm St                   Kingsbury St & Kinzie St    \n",
       "4       Wells St & Randolph St              Larrabee St & Webster Ave   \n",
       "5       Lincoln Ave & Waveland Ave          Kingsbury St & Kinzie St    \n",
       "6       Wells St & Elm St                   Kingsbury St & Kinzie St    \n",
       "7       Wells St & Elm St                   Kingsbury St & Kinzie St    \n",
       "8       Wells St & Elm St                   Kingsbury St & Kinzie St    \n",
       "9       Wells St & Elm St                   Kingsbury St & Kinzie St    \n",
       "10      Clark St & Ida B Wells Dr           Kingsbury St & Kinzie St    \n",
       "11      Wells St & Elm St                   Kingsbury St & Kinzie St    \n",
       "12      Wells St & Elm St                   Kingsbury St & Kinzie St    \n",
       "13      Wells St & Elm St                   Kingsbury St & Kinzie St    \n",
       "14      Clark St & Ida B Wells Dr           Kingsbury St & Kinzie St    \n",
       "15      Clark St & Ida B Wells Dr           Kingsbury St & Kinzie St    \n",
       "16      Clark St & Randolph St              Kingsbury St & Kinzie St    \n",
       "17      Wells St & Elm St                   Kingsbury St & Kinzie St    \n",
       "18      Sheffield Ave & Kingsbury St        Aberdeen St & Randolph St   \n",
       "19      Wells St & Elm St                   Kingsbury St & Kinzie St    \n",
       "20      Clark St & Randolph St              Aberdeen St & Randolph St   \n",
       "21      Wells St & Elm St                   Kingsbury St & Kinzie St    \n",
       "22      Orleans St & Merchandise Mart Plaza Kingsbury St & Kinzie St    \n",
       "23      Orleans St & Merchandise Mart Plaza Kingsbury St & Kinzie St    \n",
       "24      Wells St & Elm St                   Kingsbury St & Kinzie St    \n",
       "25      Winchester Ave & Elston Ave         Larrabee St & Webster Ave   \n",
       "26      Sheffield Ave & Kingsbury St        Kingsbury St & Kinzie St    \n",
       "27      Wells St & Elm St                   Larrabee St & Webster Ave   \n",
       "28      Clarendon Ave & Junior Ter          Wilton Ave & Belmont Ave    \n",
       "29      Wells St & Elm St                   Kingsbury St & Kinzie St    \n",
       "30      Orleans St & Merchandise Mart Plaza Larrabee St & Webster Ave   \n",
       "⋮       ⋮                                   ⋮                           \n",
       "4314751 State St & Randolph St              LaSalle St & Washington St  \n",
       "4314752 Stave St & Armitage Ave             Milwaukee Ave & Wabansia Ave\n",
       "4314753 900 W Harrison St                   Racine Ave & Congress Pkwy  \n",
       "4314754 900 W Harrison St                   Racine Ave & Congress Pkwy  \n",
       "4314755 900 W Harrison St                   Racine Ave & Congress Pkwy  \n",
       "4314756 900 W Harrison St                   Racine Ave & Congress Pkwy  \n",
       "4314757 900 W Harrison St                   Racine Ave & Congress Pkwy  \n",
       "4314758 Damen Ave/Coulter St                Ashland Ave & Archer Ave    \n",
       "4314759 900 W Harrison St                   Racine Ave & Congress Pkwy  \n",
       "4314760 Racine Ave & 18th St                Morgan St & Lake St*        \n",
       "4314761 900 W Harrison St                   Racine Ave & Congress Pkwy  \n",
       "4314762 Damen Ave & Madison St              Morgan St & Lake St*        \n",
       "4314763 Racine Ave & 18th St                LaSalle St & Washington St  \n",
       "4314764 900 W Harrison St                   Racine Ave & Congress Pkwy  \n",
       "4314765 MLK Jr Dr & 47th St                 Calumet Ave & 35th St       \n",
       "4314766 Damen Ave & Madison St              Racine Ave & Congress Pkwy  \n",
       "4314767 900 W Harrison St                   Racine Ave & Congress Pkwy  \n",
       "4314768 Damen Ave & Madison St              Morgan St & Lake St*        \n",
       "4314769 Damen Ave & Madison St              Morgan St & Lake St*        \n",
       "4314770 Damen Ave & Madison St              Morgan St & Lake St*        \n",
       "4314771 Mies van der Rohe Way & Chicago Ave Milwaukee Ave & Wabansia Ave\n",
       "4314772 900 W Harrison St                   Racine Ave & Congress Pkwy  \n",
       "4314773 900 W Harrison St                   Racine Ave & Congress Pkwy  \n",
       "4314774 Racine Ave & 18th St                Morgan St & Lake St*        \n",
       "4314775 Racine Ave & 18th St                Racine Ave & Congress Pkwy  \n",
       "4314776 900 W Harrison St                   Racine Ave & Congress Pkwy  \n",
       "4314777 900 W Harrison St                   Racine Ave & Congress Pkwy  \n",
       "4314778 900 W Harrison St                   Racine Ave & Congress Pkwy  \n",
       "4314779 Damen Ave & Madison St              Morgan St & Lake St*        \n",
       "4314780 900 W Harrison St                   Racine Ave & Congress Pkwy  \n",
       "        start_lat start_lng end_lat  end_lng   user_type\n",
       "1       41.90327  -87.63474 41.88918 -87.63851 member   \n",
       "2       41.90294  -87.63444 41.88918 -87.63851 member   \n",
       "3       41.90295  -87.63447 41.88918 -87.63851 member   \n",
       "4       41.88430  -87.63396 41.92182 -87.64414 member   \n",
       "5       41.94880  -87.67528 41.88918 -87.63851 member   \n",
       "6       41.90322  -87.63432 41.88918 -87.63851 member   \n",
       "7       41.90322  -87.63432 41.88918 -87.63851 member   \n",
       "8       41.90337  -87.63486 41.88918 -87.63851 member   \n",
       "9       41.90322  -87.63432 41.88918 -87.63851 member   \n",
       "10      41.87603  -87.63087 41.88918 -87.63851 member   \n",
       "11      41.90303  -87.63461 41.88918 -87.63851 member   \n",
       "12      41.90322  -87.63432 41.88918 -87.63851 member   \n",
       "13      41.90315  -87.63458 41.88918 -87.63851 member   \n",
       "14      41.87585  -87.63093 41.88918 -87.63851 member   \n",
       "15      41.87557  -87.63078 41.88918 -87.63851 member   \n",
       "16      41.88417  -87.63209 41.88918 -87.63851 member   \n",
       "17      41.90303  -87.63462 41.88918 -87.63851 member   \n",
       "18      41.91062  -87.65314 41.88411 -87.65426 member   \n",
       "19      41.90322  -87.63432 41.88918 -87.63851 member   \n",
       "20      41.88530  -87.63225 41.88411 -87.65426 member   \n",
       "21      41.90322  -87.63432 41.88918 -87.63851 member   \n",
       "22      41.88824  -87.63639 41.88918 -87.63851 member   \n",
       "23      41.88824  -87.63639 41.88918 -87.63851 member   \n",
       "24      41.90322  -87.63432 41.88918 -87.63851 member   \n",
       "25      41.92409  -87.67646 41.92182 -87.64414 member   \n",
       "26      41.91052  -87.65311 41.88918 -87.63851 member   \n",
       "27      41.90322  -87.63432 41.92182 -87.64414 member   \n",
       "28      41.96100  -87.64960 41.94023 -87.65294 member   \n",
       "29      41.90319  -87.63428 41.88918 -87.63851 member   \n",
       "30      41.88824  -87.63639 41.92182 -87.64414 member   \n",
       "⋮       ⋮         ⋮         ⋮        ⋮         ⋮        \n",
       "4314751 41.88501  -87.62796 41.88266 -87.63253 member   \n",
       "4314752 41.91774  -87.69139 41.91262 -87.68139 member   \n",
       "4314753 41.87475  -87.64981 41.87464 -87.65703 member   \n",
       "4314754 41.87475  -87.64981 41.87464 -87.65703 member   \n",
       "4314755 41.87475  -87.64981 41.87464 -87.65703 member   \n",
       "4314756 41.87475  -87.64981 41.87464 -87.65703 member   \n",
       "4314757 41.87475  -87.64981 41.87464 -87.65703 member   \n",
       "4314758 41.84920  -87.67564 41.83921 -87.66561 member   \n",
       "4314759 41.87475  -87.64981 41.87464 -87.65703 member   \n",
       "4314760 41.85829  -87.65635 41.88549 -87.65229 member   \n",
       "4314761 41.87475  -87.64981 41.87464 -87.65703 member   \n",
       "4314762 41.88137  -87.67493 41.88549 -87.65229 member   \n",
       "4314763 41.85832  -87.65650 41.88266 -87.63253 casual   \n",
       "4314764 41.87472  -87.64988 41.87464 -87.65703 casual   \n",
       "4314765 41.80985  -87.61628 41.83138 -87.61803 casual   \n",
       "4314766 41.88137  -87.67493 41.87464 -87.65703 casual   \n",
       "4314767 41.87475  -87.64981 41.87464 -87.65703 casual   \n",
       "4314768 41.88140  -87.67498 41.88549 -87.65229 casual   \n",
       "4314769 41.88137  -87.67493 41.88549 -87.65229 casual   \n",
       "4314770 41.88137  -87.67493 41.88549 -87.65229 casual   \n",
       "4314771 41.89694  -87.62176 41.91262 -87.68139 member   \n",
       "4314772 41.87475  -87.64981 41.87464 -87.65703 casual   \n",
       "4314773 41.87478  -87.64980 41.87464 -87.65703 member   \n",
       "4314774 41.85817  -87.65650 41.88549 -87.65229 member   \n",
       "4314775 41.85824  -87.65638 41.87464 -87.65703 member   \n",
       "4314776 41.87470  -87.64980 41.87464 -87.65703 casual   \n",
       "4314777 41.87475  -87.64981 41.87464 -87.65703 casual   \n",
       "4314778 41.87475  -87.64981 41.87464 -87.65703 member   \n",
       "4314779 41.88140  -87.67498 41.88549 -87.65229 casual   \n",
       "4314780 41.87475  -87.64981 41.87464 -87.65703 member   "
      ]
     },
     "metadata": {},
     "output_type": "display_data"
    }
   ],
   "source": [
    "cyclistic_23_24_cleaned <- na.omit(cyclistic_23_24_2)\n",
    "cyclistic_23_24_cleaned"
   ]
  },
  {
   "cell_type": "markdown",
   "id": "93bffbcf",
   "metadata": {
    "papermill": {
     "duration": 0.018953,
     "end_time": "2024-09-25T16:14:39.700446",
     "exception": false,
     "start_time": "2024-09-25T16:14:39.681493",
     "status": "completed"
    },
    "tags": []
   },
   "source": [
    "We will create two more columns to get information about how long the rides are and which day of the week riders use Cyclistic's bikes."
   ]
  },
  {
   "cell_type": "code",
   "execution_count": 12,
   "id": "fc5c61b6",
   "metadata": {
    "execution": {
     "iopub.execute_input": "2024-09-25T16:14:39.777367Z",
     "iopub.status.busy": "2024-09-25T16:14:39.775846Z",
     "iopub.status.idle": "2024-09-25T16:14:42.345363Z",
     "shell.execute_reply": "2024-09-25T16:14:42.343443Z"
    },
    "papermill": {
     "duration": 2.593656,
     "end_time": "2024-09-25T16:14:42.348587",
     "exception": false,
     "start_time": "2024-09-25T16:14:39.754931",
     "status": "completed"
    },
    "tags": []
   },
   "outputs": [],
   "source": [
    "cyclistic_23_24_cleaned$ride_length <- difftime(cyclistic_23_24_cleaned$ended_at, cyclistic_23_24_cleaned$started_at)\n",
    "cyclistic_23_24_cleaned$ride_length <- as.numeric(cyclistic_23_24_cleaned$ride_length)\n",
    "cyclistic_23_24_cleaned$ride_length <- cyclistic_23_24_cleaned$ride_length/60"
   ]
  },
  {
   "cell_type": "code",
   "execution_count": 13,
   "id": "7a4408fc",
   "metadata": {
    "execution": {
     "iopub.execute_input": "2024-09-25T16:14:42.391462Z",
     "iopub.status.busy": "2024-09-25T16:14:42.389952Z",
     "iopub.status.idle": "2024-09-25T16:14:47.199774Z",
     "shell.execute_reply": "2024-09-25T16:14:47.197653Z"
    },
    "papermill": {
     "duration": 4.834988,
     "end_time": "2024-09-25T16:14:47.203087",
     "exception": false,
     "start_time": "2024-09-25T16:14:42.368099",
     "status": "completed"
    },
    "tags": []
   },
   "outputs": [
    {
     "name": "stdout",
     "output_type": "stream",
     "text": [
      "tibble [4,314,780 × 15] (S3: tbl_df/tbl/data.frame)\n",
      " $ ride_id           : chr [1:4314780] \"C1D650626C8C899A\" \"EECD38BDB25BFCB0\" \"F4A9CE78061F17F7\" \"0A0D9E15EE50B171\" ...\n",
      " $ bike_type         : chr [1:4314780] \"electric_bike\" \"electric_bike\" \"electric_bike\" \"classic_bike\" ...\n",
      " $ started_at        : POSIXct[1:4314780], format: \"2024-01-12 15:30:27\" \"2024-01-08 15:45:46\" ...\n",
      " $ ended_at          : POSIXct[1:4314780], format: \"2024-01-12 15:37:59\" \"2024-01-08 15:52:59\" ...\n",
      " $ start_station_name: chr [1:4314780] \"Wells St & Elm St\" \"Wells St & Elm St\" \"Wells St & Elm St\" \"Wells St & Randolph St\" ...\n",
      " $ end_station_name  : chr [1:4314780] \"Kingsbury St & Kinzie St\" \"Kingsbury St & Kinzie St\" \"Kingsbury St & Kinzie St\" \"Larrabee St & Webster Ave\" ...\n",
      " $ start_lat         : num [1:4314780] 41.9 41.9 41.9 41.9 41.9 ...\n",
      " $ start_lng         : num [1:4314780] -87.6 -87.6 -87.6 -87.6 -87.7 ...\n",
      " $ end_lat           : num [1:4314780] 41.9 41.9 41.9 41.9 41.9 ...\n",
      " $ end_lng           : num [1:4314780] -87.6 -87.6 -87.6 -87.6 -87.6 ...\n",
      " $ user_type         : chr [1:4314780] \"member\" \"member\" \"member\" \"member\" ...\n",
      " $ ride_length       : num [1:4314780] 7.53 7.22 8 29.82 26.2 ...\n",
      " $ day_of_week       : chr [1:4314780] \"Friday\" \"Monday\" \"Saturday\" \"Monday\" ...\n",
      " $ month             : chr [1:4314780] \"01\" \"01\" \"01\" \"01\" ...\n",
      " $ start_hour        : int [1:4314780] 15 15 12 16 5 11 14 18 14 19 ...\n",
      " - attr(*, \"na.action\")= 'omit' Named int [1:1428498] 75479 75480 75481 75482 75483 75484 75485 75487 75488 75489 ...\n",
      "  ..- attr(*, \"names\")= chr [1:1428498] \"75479\" \"75480\" \"75481\" \"75482\" ...\n"
     ]
    }
   ],
   "source": [
    "cyclistic_23_24_cleaned$day_of_week <- format(as.Date(cyclistic_23_24_cleaned$started_at), \"%A\")\n",
    "cyclistic_23_24_cleaned$month <- format(as.Date(cyclistic_23_24_cleaned$started_at), \"%m\")\n",
    "cyclistic_23_24_cleaned$start_hour <- lubridate::hour(cyclistic_23_24_cleaned$started_at)\n",
    "str(cyclistic_23_24_cleaned)"
   ]
  },
  {
   "cell_type": "markdown",
   "id": "11e8dc69",
   "metadata": {
    "papermill": {
     "duration": 0.019886,
     "end_time": "2024-09-25T16:14:47.242814",
     "exception": false,
     "start_time": "2024-09-25T16:14:47.222928",
     "status": "completed"
    },
    "tags": []
   },
   "source": [
    "Finally, we will delete rows where ride length was less than or equal to 1 minute and more than or equal to 10 hour."
   ]
  },
  {
   "cell_type": "code",
   "execution_count": 14,
   "id": "af6aad35",
   "metadata": {
    "execution": {
     "iopub.execute_input": "2024-09-25T16:14:47.284829Z",
     "iopub.status.busy": "2024-09-25T16:14:47.283181Z",
     "iopub.status.idle": "2024-09-25T16:14:48.970503Z",
     "shell.execute_reply": "2024-09-25T16:14:48.968245Z"
    },
    "papermill": {
     "duration": 1.711149,
     "end_time": "2024-09-25T16:14:48.973371",
     "exception": false,
     "start_time": "2024-09-25T16:14:47.262222",
     "status": "completed"
    },
    "tags": []
   },
   "outputs": [
    {
     "name": "stdout",
     "output_type": "stream",
     "text": [
      "[1] 4233574\n"
     ]
    }
   ],
   "source": [
    "cyclistic_23_24_cleaned <- cyclistic_23_24_cleaned[-which(cyclistic_23_24_cleaned$ride_length<=1), ]\n",
    "cyclistic_23_24_cleaned <- cyclistic_23_24_cleaned[-which(cyclistic_23_24_cleaned$ride_length>=600), ]\n",
    "number_rows <- cyclistic_23_24_cleaned %>%\n",
    "    nrow()\n",
    "print(number_rows)"
   ]
  },
  {
   "cell_type": "markdown",
   "id": "5933e342",
   "metadata": {
    "papermill": {
     "duration": 0.020202,
     "end_time": "2024-09-25T16:14:49.012834",
     "exception": false,
     "start_time": "2024-09-25T16:14:48.992632",
     "status": "completed"
    },
    "tags": []
   },
   "source": [
    "ANALYSIS:\n",
    "In the following part, we will have a look at some charts or visualizations to understand the whole picture of this dataset.\n",
    "First of all, we will calculate the average, the median, the maximum and the minimum of the column ride_length, which we created before."
   ]
  },
  {
   "cell_type": "code",
   "execution_count": 15,
   "id": "20ac63f0",
   "metadata": {
    "execution": {
     "iopub.execute_input": "2024-09-25T16:14:49.055318Z",
     "iopub.status.busy": "2024-09-25T16:14:49.053765Z",
     "iopub.status.idle": "2024-09-25T16:15:01.789005Z",
     "shell.execute_reply": "2024-09-25T16:15:01.787260Z"
    },
    "papermill": {
     "duration": 12.759025,
     "end_time": "2024-09-25T16:15:01.791187",
     "exception": false,
     "start_time": "2024-09-25T16:14:49.032162",
     "status": "completed"
    },
    "tags": []
   },
   "outputs": [
    {
     "data": {
      "text/html": [
       "<table class=\"dataframe\">\n",
       "<caption>A data.frame: 2 × 2</caption>\n",
       "<thead>\n",
       "\t<tr><th scope=col>cyclistic_23_24_cleaned$user_type</th><th scope=col>cyclistic_23_24_cleaned$ride_length</th></tr>\n",
       "\t<tr><th scope=col>&lt;chr&gt;</th><th scope=col>&lt;dbl&gt;</th></tr>\n",
       "</thead>\n",
       "<tbody>\n",
       "\t<tr><td>casual</td><td>22.32499</td></tr>\n",
       "\t<tr><td>member</td><td>12.27986</td></tr>\n",
       "</tbody>\n",
       "</table>\n"
      ],
      "text/latex": [
       "A data.frame: 2 × 2\n",
       "\\begin{tabular}{ll}\n",
       " cyclistic\\_23\\_24\\_cleaned\\$user\\_type & cyclistic\\_23\\_24\\_cleaned\\$ride\\_length\\\\\n",
       " <chr> & <dbl>\\\\\n",
       "\\hline\n",
       "\t casual & 22.32499\\\\\n",
       "\t member & 12.27986\\\\\n",
       "\\end{tabular}\n"
      ],
      "text/markdown": [
       "\n",
       "A data.frame: 2 × 2\n",
       "\n",
       "| cyclistic_23_24_cleaned$user_type &lt;chr&gt; | cyclistic_23_24_cleaned$ride_length &lt;dbl&gt; |\n",
       "|---|---|\n",
       "| casual | 22.32499 |\n",
       "| member | 12.27986 |\n",
       "\n"
      ],
      "text/plain": [
       "  cyclistic_23_24_cleaned$user_type cyclistic_23_24_cleaned$ride_length\n",
       "1 casual                            22.32499                           \n",
       "2 member                            12.27986                           "
      ]
     },
     "metadata": {},
     "output_type": "display_data"
    },
    {
     "data": {
      "text/html": [
       "<table class=\"dataframe\">\n",
       "<caption>A data.frame: 2 × 2</caption>\n",
       "<thead>\n",
       "\t<tr><th scope=col>cyclistic_23_24_cleaned$user_type</th><th scope=col>cyclistic_23_24_cleaned$ride_length</th></tr>\n",
       "\t<tr><th scope=col>&lt;chr&gt;</th><th scope=col>&lt;dbl&gt;</th></tr>\n",
       "</thead>\n",
       "<tbody>\n",
       "\t<tr><td>casual</td><td>13.316667</td></tr>\n",
       "\t<tr><td>member</td><td> 8.933333</td></tr>\n",
       "</tbody>\n",
       "</table>\n"
      ],
      "text/latex": [
       "A data.frame: 2 × 2\n",
       "\\begin{tabular}{ll}\n",
       " cyclistic\\_23\\_24\\_cleaned\\$user\\_type & cyclistic\\_23\\_24\\_cleaned\\$ride\\_length\\\\\n",
       " <chr> & <dbl>\\\\\n",
       "\\hline\n",
       "\t casual & 13.316667\\\\\n",
       "\t member &  8.933333\\\\\n",
       "\\end{tabular}\n"
      ],
      "text/markdown": [
       "\n",
       "A data.frame: 2 × 2\n",
       "\n",
       "| cyclistic_23_24_cleaned$user_type &lt;chr&gt; | cyclistic_23_24_cleaned$ride_length &lt;dbl&gt; |\n",
       "|---|---|\n",
       "| casual | 13.316667 |\n",
       "| member |  8.933333 |\n",
       "\n"
      ],
      "text/plain": [
       "  cyclistic_23_24_cleaned$user_type cyclistic_23_24_cleaned$ride_length\n",
       "1 casual                            13.316667                          \n",
       "2 member                             8.933333                          "
      ]
     },
     "metadata": {},
     "output_type": "display_data"
    },
    {
     "data": {
      "text/html": [
       "<table class=\"dataframe\">\n",
       "<caption>A data.frame: 2 × 2</caption>\n",
       "<thead>\n",
       "\t<tr><th scope=col>cyclistic_23_24_cleaned$user_type</th><th scope=col>cyclistic_23_24_cleaned$ride_length</th></tr>\n",
       "\t<tr><th scope=col>&lt;chr&gt;</th><th scope=col>&lt;dbl&gt;</th></tr>\n",
       "</thead>\n",
       "<tbody>\n",
       "\t<tr><td>casual</td><td>599.9667</td></tr>\n",
       "\t<tr><td>member</td><td>599.5167</td></tr>\n",
       "</tbody>\n",
       "</table>\n"
      ],
      "text/latex": [
       "A data.frame: 2 × 2\n",
       "\\begin{tabular}{ll}\n",
       " cyclistic\\_23\\_24\\_cleaned\\$user\\_type & cyclistic\\_23\\_24\\_cleaned\\$ride\\_length\\\\\n",
       " <chr> & <dbl>\\\\\n",
       "\\hline\n",
       "\t casual & 599.9667\\\\\n",
       "\t member & 599.5167\\\\\n",
       "\\end{tabular}\n"
      ],
      "text/markdown": [
       "\n",
       "A data.frame: 2 × 2\n",
       "\n",
       "| cyclistic_23_24_cleaned$user_type &lt;chr&gt; | cyclistic_23_24_cleaned$ride_length &lt;dbl&gt; |\n",
       "|---|---|\n",
       "| casual | 599.9667 |\n",
       "| member | 599.5167 |\n",
       "\n"
      ],
      "text/plain": [
       "  cyclistic_23_24_cleaned$user_type cyclistic_23_24_cleaned$ride_length\n",
       "1 casual                            599.9667                           \n",
       "2 member                            599.5167                           "
      ]
     },
     "metadata": {},
     "output_type": "display_data"
    },
    {
     "data": {
      "text/html": [
       "<table class=\"dataframe\">\n",
       "<caption>A data.frame: 2 × 2</caption>\n",
       "<thead>\n",
       "\t<tr><th scope=col>cyclistic_23_24_cleaned$user_type</th><th scope=col>cyclistic_23_24_cleaned$ride_length</th></tr>\n",
       "\t<tr><th scope=col>&lt;chr&gt;</th><th scope=col>&lt;dbl&gt;</th></tr>\n",
       "</thead>\n",
       "<tbody>\n",
       "\t<tr><td>casual</td><td>1.016667</td></tr>\n",
       "\t<tr><td>member</td><td>1.016667</td></tr>\n",
       "</tbody>\n",
       "</table>\n"
      ],
      "text/latex": [
       "A data.frame: 2 × 2\n",
       "\\begin{tabular}{ll}\n",
       " cyclistic\\_23\\_24\\_cleaned\\$user\\_type & cyclistic\\_23\\_24\\_cleaned\\$ride\\_length\\\\\n",
       " <chr> & <dbl>\\\\\n",
       "\\hline\n",
       "\t casual & 1.016667\\\\\n",
       "\t member & 1.016667\\\\\n",
       "\\end{tabular}\n"
      ],
      "text/markdown": [
       "\n",
       "A data.frame: 2 × 2\n",
       "\n",
       "| cyclistic_23_24_cleaned$user_type &lt;chr&gt; | cyclistic_23_24_cleaned$ride_length &lt;dbl&gt; |\n",
       "|---|---|\n",
       "| casual | 1.016667 |\n",
       "| member | 1.016667 |\n",
       "\n"
      ],
      "text/plain": [
       "  cyclistic_23_24_cleaned$user_type cyclistic_23_24_cleaned$ride_length\n",
       "1 casual                            1.016667                           \n",
       "2 member                            1.016667                           "
      ]
     },
     "metadata": {},
     "output_type": "display_data"
    }
   ],
   "source": [
    "aggregate(cyclistic_23_24_cleaned$ride_length ~ cyclistic_23_24_cleaned$user_type, FUN = mean)\n",
    "aggregate(cyclistic_23_24_cleaned$ride_length ~ cyclistic_23_24_cleaned$user_type, FUN = median)\n",
    "aggregate(cyclistic_23_24_cleaned$ride_length ~ cyclistic_23_24_cleaned$user_type, FUN = max)\n",
    "aggregate(cyclistic_23_24_cleaned$ride_length ~ cyclistic_23_24_cleaned$user_type, FUN = min)"
   ]
  },
  {
   "cell_type": "markdown",
   "id": "9730978b",
   "metadata": {
    "papermill": {
     "duration": 0.020392,
     "end_time": "2024-09-25T16:15:01.831783",
     "exception": false,
     "start_time": "2024-09-25T16:15:01.811391",
     "status": "completed"
    },
    "tags": []
   },
   "source": [
    "Now, we will create a new variable called total_rides_by_user_type to get more information about user type and bike preference by user type."
   ]
  },
  {
   "cell_type": "code",
   "execution_count": 16,
   "id": "4eda3065",
   "metadata": {
    "execution": {
     "iopub.execute_input": "2024-09-25T16:15:01.876588Z",
     "iopub.status.busy": "2024-09-25T16:15:01.875026Z",
     "iopub.status.idle": "2024-09-25T16:15:01.995293Z",
     "shell.execute_reply": "2024-09-25T16:15:01.993532Z"
    },
    "papermill": {
     "duration": 0.145133,
     "end_time": "2024-09-25T16:15:01.997696",
     "exception": false,
     "start_time": "2024-09-25T16:15:01.852563",
     "status": "completed"
    },
    "tags": []
   },
   "outputs": [
    {
     "data": {
      "text/html": [
       "<table class=\"dataframe\">\n",
       "<caption>A tibble: 2 × 3</caption>\n",
       "<thead>\n",
       "\t<tr><th scope=col>user_type</th><th scope=col>total_rides</th><th scope=col>percentage</th></tr>\n",
       "\t<tr><th scope=col>&lt;chr&gt;</th><th scope=col>&lt;int&gt;</th><th scope=col>&lt;chr&gt;</th></tr>\n",
       "</thead>\n",
       "<tbody>\n",
       "\t<tr><td>casual</td><td>1487170</td><td>35.1%</td></tr>\n",
       "\t<tr><td>member</td><td>2746404</td><td>64.9%</td></tr>\n",
       "</tbody>\n",
       "</table>\n"
      ],
      "text/latex": [
       "A tibble: 2 × 3\n",
       "\\begin{tabular}{lll}\n",
       " user\\_type & total\\_rides & percentage\\\\\n",
       " <chr> & <int> & <chr>\\\\\n",
       "\\hline\n",
       "\t casual & 1487170 & 35.1\\%\\\\\n",
       "\t member & 2746404 & 64.9\\%\\\\\n",
       "\\end{tabular}\n"
      ],
      "text/markdown": [
       "\n",
       "A tibble: 2 × 3\n",
       "\n",
       "| user_type &lt;chr&gt; | total_rides &lt;int&gt; | percentage &lt;chr&gt; |\n",
       "|---|---|---|\n",
       "| casual | 1487170 | 35.1% |\n",
       "| member | 2746404 | 64.9% |\n",
       "\n"
      ],
      "text/plain": [
       "  user_type total_rides percentage\n",
       "1 casual    1487170     35.1%     \n",
       "2 member    2746404     64.9%     "
      ]
     },
     "metadata": {},
     "output_type": "display_data"
    }
   ],
   "source": [
    "total_rides_by_user_type <- cyclistic_23_24_cleaned %>%\n",
    "    select(user_type) %>%\n",
    "    group_by(user_type) %>%\n",
    "    summarise(total_rides = n(), .groups = 'drop') %>%\n",
    "    mutate(percentage = scales::percent(total_rides/sum(total_rides), accuracy = 0.1))\n",
    "total_rides_by_user_type"
   ]
  },
  {
   "cell_type": "code",
   "execution_count": 17,
   "id": "0f5569d5",
   "metadata": {
    "execution": {
     "iopub.execute_input": "2024-09-25T16:15:02.042615Z",
     "iopub.status.busy": "2024-09-25T16:15:02.041051Z",
     "iopub.status.idle": "2024-09-25T16:15:02.868770Z",
     "shell.execute_reply": "2024-09-25T16:15:02.865950Z"
    },
    "papermill": {
     "duration": 0.854362,
     "end_time": "2024-09-25T16:15:02.872804",
     "exception": false,
     "start_time": "2024-09-25T16:15:02.018442",
     "status": "completed"
    },
    "tags": []
   },
   "outputs": [
    {
     "name": "stderr",
     "output_type": "stream",
     "text": [
      "\u001b[1m\u001b[22m`summarise()` has grouped output by 'user_type'. You can override using the\n",
      "`.groups` argument.\n"
     ]
    },
    {
     "data": {
      "text/html": [
       "<table class=\"dataframe\">\n",
       "<caption>A grouped_df: 5 × 3</caption>\n",
       "<thead>\n",
       "\t<tr><th scope=col>user_type</th><th scope=col>bike_type</th><th scope=col>number_of_rides</th></tr>\n",
       "\t<tr><th scope=col>&lt;chr&gt;</th><th scope=col>&lt;chr&gt;</th><th scope=col>&lt;int&gt;</th></tr>\n",
       "</thead>\n",
       "<tbody>\n",
       "\t<tr><td>casual</td><td>classic_bike </td><td> 918442</td></tr>\n",
       "\t<tr><td>casual</td><td>docked_bike  </td><td>  46977</td></tr>\n",
       "\t<tr><td>casual</td><td>electric_bike</td><td> 521751</td></tr>\n",
       "\t<tr><td>member</td><td>classic_bike </td><td>1857689</td></tr>\n",
       "\t<tr><td>member</td><td>electric_bike</td><td> 888715</td></tr>\n",
       "</tbody>\n",
       "</table>\n"
      ],
      "text/latex": [
       "A grouped\\_df: 5 × 3\n",
       "\\begin{tabular}{lll}\n",
       " user\\_type & bike\\_type & number\\_of\\_rides\\\\\n",
       " <chr> & <chr> & <int>\\\\\n",
       "\\hline\n",
       "\t casual & classic\\_bike  &  918442\\\\\n",
       "\t casual & docked\\_bike   &   46977\\\\\n",
       "\t casual & electric\\_bike &  521751\\\\\n",
       "\t member & classic\\_bike  & 1857689\\\\\n",
       "\t member & electric\\_bike &  888715\\\\\n",
       "\\end{tabular}\n"
      ],
      "text/markdown": [
       "\n",
       "A grouped_df: 5 × 3\n",
       "\n",
       "| user_type &lt;chr&gt; | bike_type &lt;chr&gt; | number_of_rides &lt;int&gt; |\n",
       "|---|---|---|\n",
       "| casual | classic_bike  |  918442 |\n",
       "| casual | docked_bike   |   46977 |\n",
       "| casual | electric_bike |  521751 |\n",
       "| member | classic_bike  | 1857689 |\n",
       "| member | electric_bike |  888715 |\n",
       "\n"
      ],
      "text/plain": [
       "  user_type bike_type     number_of_rides\n",
       "1 casual    classic_bike   918442        \n",
       "2 casual    docked_bike     46977        \n",
       "3 casual    electric_bike  521751        \n",
       "4 member    classic_bike  1857689        \n",
       "5 member    electric_bike  888715        "
      ]
     },
     "metadata": {},
     "output_type": "display_data"
    }
   ],
   "source": [
    "cyclistic_23_24_cleaned %>%\n",
    "    group_by(user_type, bike_type) %>%\n",
    "    summarise(number_of_rides = n())"
   ]
  },
  {
   "cell_type": "markdown",
   "id": "d78c3538",
   "metadata": {
    "papermill": {
     "duration": 0.027864,
     "end_time": "2024-09-25T16:15:02.933003",
     "exception": false,
     "start_time": "2024-09-25T16:15:02.905139",
     "status": "completed"
    },
    "tags": []
   },
   "source": [
    "The following code will create the aesthetic that will have the visualizations."
   ]
  },
  {
   "cell_type": "code",
   "execution_count": 18,
   "id": "37b4471c",
   "metadata": {
    "execution": {
     "iopub.execute_input": "2024-09-25T16:15:02.981380Z",
     "iopub.status.busy": "2024-09-25T16:15:02.979603Z",
     "iopub.status.idle": "2024-09-25T16:15:02.995422Z",
     "shell.execute_reply": "2024-09-25T16:15:02.993668Z"
    },
    "papermill": {
     "duration": 0.043503,
     "end_time": "2024-09-25T16:15:02.998765",
     "exception": false,
     "start_time": "2024-09-25T16:15:02.955262",
     "status": "completed"
    },
    "tags": []
   },
   "outputs": [],
   "source": [
    "my_theme <- theme(plot.margin = margin(1.2, 0.5, 0.5, 0.5, \"cm\"), \n",
    "                  axis.text = element_text(size = 12, face = \"bold\"), \n",
    "                  axis.text.y = element_text(size = 18), \n",
    "                  axis.title = element_blank(), \n",
    "                  legend.text = element_text(size = 16), \n",
    "                  legend.position.inside = c(0.90, 0.91), \n",
    "                  legend.title = element_blank(), \n",
    "                  legend.background = element_rect(fill = \"white\", color = \"gray\"), \n",
    "                  plot.title = element_text(vjust = 5, size = 26, face = \"bold\"), \n",
    "                  plot.subtitle = element_text(vjust = 3, size = 20))"
   ]
  },
  {
   "cell_type": "markdown",
   "id": "4d6ab7f0",
   "metadata": {
    "papermill": {
     "duration": 0.021002,
     "end_time": "2024-09-25T16:15:03.040406",
     "exception": false,
     "start_time": "2024-09-25T16:15:03.019404",
     "status": "completed"
    },
    "tags": []
   },
   "source": [
    "Next, we will create a variable called total_rides_by_month to get information about the number of rides by month and user type."
   ]
  },
  {
   "cell_type": "code",
   "execution_count": 19,
   "id": "97ebca28",
   "metadata": {
    "execution": {
     "iopub.execute_input": "2024-09-25T16:15:03.087891Z",
     "iopub.status.busy": "2024-09-25T16:15:03.086136Z",
     "iopub.status.idle": "2024-09-25T16:15:03.275613Z",
     "shell.execute_reply": "2024-09-25T16:15:03.273914Z"
    },
    "papermill": {
     "duration": 0.215144,
     "end_time": "2024-09-25T16:15:03.278049",
     "exception": false,
     "start_time": "2024-09-25T16:15:03.062905",
     "status": "completed"
    },
    "tags": []
   },
   "outputs": [
    {
     "name": "stderr",
     "output_type": "stream",
     "text": [
      "\u001b[1m\u001b[22m`summarise()` has grouped output by 'user_type'. You can override using the\n",
      "`.groups` argument.\n"
     ]
    },
    {
     "data": {
      "text/plain": [
       "\n",
       "\n",
       "|user_type |month | total_rides|percentage |\n",
       "|:---------|:-----|-----------:|:----------|\n",
       "|casual    |01    |       17332|1.2%       |\n",
       "|casual    |02    |       37537|2.5%       |\n",
       "|casual    |03    |       61691|4.1%       |\n",
       "|casual    |04    |       92058|6.2%       |\n",
       "|casual    |05    |      164043|11.0%      |\n",
       "|casual    |06    |      215528|14.5%      |\n",
       "|casual    |07    |      240454|16.2%      |\n",
       "|casual    |08    |      229721|15.4%      |\n",
       "|casual    |09    |      193670|13.0%      |\n",
       "|casual    |10    |      128085|8.6%       |\n",
       "|casual    |11    |       70959|4.8%       |\n",
       "|casual    |12    |       36092|2.4%       |\n",
       "|member    |01    |       93385|3.4%       |\n",
       "|member    |02    |      144352|5.3%       |\n",
       "|member    |03    |      164631|6.0%       |\n",
       "|member    |04    |      200225|7.3%       |\n",
       "|member    |05    |      269921|9.8%       |\n",
       "|member    |06    |      308661|11.2%      |\n",
       "|member    |07    |      321804|11.7%      |\n",
       "|member    |08    |      344093|12.5%      |\n",
       "|member    |09    |      304051|11.1%      |\n",
       "|member    |10    |      268494|9.8%       |\n",
       "|member    |11    |      199018|7.2%       |\n",
       "|member    |12    |      127769|4.7%       |"
      ]
     },
     "metadata": {},
     "output_type": "display_data"
    }
   ],
   "source": [
    "total_rides_by_month <- cyclistic_23_24_cleaned %>%\n",
    "    select(user_type, month) %>%\n",
    "    group_by(user_type, month) %>%\n",
    "    summarise(total_rides = n()) %>%\n",
    "    mutate(percentage = scales::percent(total_rides/sum(total_rides), accuracy = 0.1)) %>%\n",
    "    ungroup()\n",
    "knitr::kable(total_rides_by_month)"
   ]
  },
  {
   "cell_type": "markdown",
   "id": "fae69888",
   "metadata": {
    "papermill": {
     "duration": 0.022395,
     "end_time": "2024-09-25T16:15:03.322033",
     "exception": false,
     "start_time": "2024-09-25T16:15:03.299638",
     "status": "completed"
    },
    "tags": []
   },
   "source": [
    "The first visualization will show the number of rides by month and user type."
   ]
  },
  {
   "cell_type": "code",
   "execution_count": 20,
   "id": "658789ae",
   "metadata": {
    "execution": {
     "iopub.execute_input": "2024-09-25T16:15:03.368211Z",
     "iopub.status.busy": "2024-09-25T16:15:03.366353Z",
     "iopub.status.idle": "2024-09-25T16:15:09.384404Z",
     "shell.execute_reply": "2024-09-25T16:15:09.382490Z"
    },
    "papermill": {
     "duration": 6.044146,
     "end_time": "2024-09-25T16:15:09.387542",
     "exception": false,
     "start_time": "2024-09-25T16:15:03.343396",
     "status": "completed"
    },
    "tags": []
   },
   "outputs": [
    {
     "name": "stderr",
     "output_type": "stream",
     "text": [
      "\u001b[1m\u001b[22m`summarise()` has grouped output by 'user_type'. You can override using the\n",
      "`.groups` argument.\n"
     ]
    },
    {
     "data": {
      "image/png": "[encoded data removed]"
     },
     "metadata": {
      "image/png": {
       "height": 420,
       "width": 420
      }
     },
     "output_type": "display_data"
    }
   ],
   "source": [
    "cyclistic_23_24_cleaned %>%\n",
    "    mutate(month = month(started_at, label = TRUE)) %>%\n",
    "    group_by(user_type, month) %>%\n",
    "    summarise(number_of_rides = n(), average_duration = mean(ride_length)) %>%\n",
    "    ggplot(aes(x = month, y = number_of_rides, fill = average_duration)) + \n",
    "    geom_col() + facet_wrap(~user_type) + theme_light() + my_theme + \n",
    "    labs(title = \"Number of rides by month and user type\", x = \"Month\", y = \"Number of rides\", fill = \"Number of rides\")"
   ]
  },
  {
   "cell_type": "markdown",
   "id": "99a7e22b",
   "metadata": {
    "papermill": {
     "duration": 0.022544,
     "end_time": "2024-09-25T16:15:09.432752",
     "exception": false,
     "start_time": "2024-09-25T16:15:09.410208",
     "status": "completed"
    },
    "tags": []
   },
   "source": [
    "The second visualization will show the average ride duration by month and user type."
   ]
  },
  {
   "cell_type": "code",
   "execution_count": 21,
   "id": "aecd7061",
   "metadata": {
    "execution": {
     "iopub.execute_input": "2024-09-25T16:15:09.481332Z",
     "iopub.status.busy": "2024-09-25T16:15:09.479742Z",
     "iopub.status.idle": "2024-09-25T16:15:10.177000Z",
     "shell.execute_reply": "2024-09-25T16:15:10.175228Z"
    },
    "papermill": {
     "duration": 0.724644,
     "end_time": "2024-09-25T16:15:10.179700",
     "exception": false,
     "start_time": "2024-09-25T16:15:09.455056",
     "status": "completed"
    },
    "tags": []
   },
   "outputs": [
    {
     "name": "stderr",
     "output_type": "stream",
     "text": [
      "\u001b[1m\u001b[22m`summarise()` has grouped output by 'user_type'. You can override using the\n",
      "`.groups` argument.\n"
     ]
    },
    {
     "data": {
      "image/png": "[encoded data removed]"
     },
     "metadata": {
      "image/png": {
       "height": 420,
       "width": 420
      }
     },
     "output_type": "display_data"
    }
   ],
   "source": [
    "cyclistic_23_24_cleaned %>%\n",
    "    group_by(user_type, month) %>%\n",
    "    summarise(average_duration = mean(ride_length)) %>%\n",
    "    ggplot(aes(x = month, y = average_duration, fill = average_duration, text = paste(month, \"Average ride duration: \", average_duration))) +\n",
    "    geom_col() + facet_wrap(~user_type) + theme_light() + my_theme + labs(title = \"Average ride duration by month\", x = \"Month\", y = \"Average ride durations (mins)\", fill = \"Average ride duration (mins)\")"
   ]
  },
  {
   "cell_type": "markdown",
   "id": "266ac216",
   "metadata": {
    "papermill": {
     "duration": 0.024135,
     "end_time": "2024-09-25T16:15:10.227414",
     "exception": false,
     "start_time": "2024-09-25T16:15:10.203279",
     "status": "completed"
    },
    "tags": []
   },
   "source": [
    "The third visualization will indicate the number of rides by weekday and user type."
   ]
  },
  {
   "cell_type": "code",
   "execution_count": 22,
   "id": "e9c3941d",
   "metadata": {
    "execution": {
     "iopub.execute_input": "2024-09-25T16:15:10.278050Z",
     "iopub.status.busy": "2024-09-25T16:15:10.276340Z",
     "iopub.status.idle": "2024-09-25T16:15:15.142679Z",
     "shell.execute_reply": "2024-09-25T16:15:15.140863Z"
    },
    "papermill": {
     "duration": 4.894204,
     "end_time": "2024-09-25T16:15:15.145174",
     "exception": false,
     "start_time": "2024-09-25T16:15:10.250970",
     "status": "completed"
    },
    "tags": []
   },
   "outputs": [
    {
     "name": "stderr",
     "output_type": "stream",
     "text": [
      "\u001b[1m\u001b[22m`summarise()` has grouped output by 'user_type'. You can override using the\n",
      "`.groups` argument.\n"
     ]
    },
    {
     "data": {
      "image/png": "[encoded data removed]"
     },
     "metadata": {
      "image/png": {
       "height": 420,
       "width": 420
      }
     },
     "output_type": "display_data"
    }
   ],
   "source": [
    "cyclistic_23_24_cleaned %>%\n",
    "    mutate(weekday = wday(started_at, label = TRUE)) %>%\n",
    "    group_by(user_type, weekday) %>%\n",
    "    summarise(number_of_rides = n(), average_duration = mean(ride_length)) %>%\n",
    "    ggplot(aes(x = weekday, y = number_of_rides, fill = average_duration)) + geom_col() + \n",
    "    facet_wrap(~user_type) + theme_light() + my_theme +\n",
    "    labs(title = \"Number of rides by weekday and user type\", x = \"Day of week\", y = \"Number of rides\", fill = \"Number of rides\")"
   ]
  },
  {
   "cell_type": "markdown",
   "id": "61d35719",
   "metadata": {
    "papermill": {
     "duration": 0.024056,
     "end_time": "2024-09-25T16:15:15.193171",
     "exception": false,
     "start_time": "2024-09-25T16:15:15.169115",
     "status": "completed"
    },
    "tags": []
   },
   "source": [
    "The fourth visualization will indicate the average ride duration by weekday and user type."
   ]
  },
  {
   "cell_type": "code",
   "execution_count": 23,
   "id": "a4333ab7",
   "metadata": {
    "execution": {
     "iopub.execute_input": "2024-09-25T16:15:15.246069Z",
     "iopub.status.busy": "2024-09-25T16:15:15.244334Z",
     "iopub.status.idle": "2024-09-25T16:15:20.173616Z",
     "shell.execute_reply": "2024-09-25T16:15:20.170835Z"
    },
    "papermill": {
     "duration": 4.959567,
     "end_time": "2024-09-25T16:15:20.177119",
     "exception": false,
     "start_time": "2024-09-25T16:15:15.217552",
     "status": "completed"
    },
    "tags": []
   },
   "outputs": [
    {
     "name": "stderr",
     "output_type": "stream",
     "text": [
      "\u001b[1m\u001b[22m`summarise()` has grouped output by 'user_type'. You can override using the\n",
      "`.groups` argument.\n"
     ]
    },
    {
     "data": {
      "image/png": "[encoded data removed]"
     },
     "metadata": {
      "image/png": {
       "height": 420,
       "width": 420
      }
     },
     "output_type": "display_data"
    }
   ],
   "source": [
    "cyclistic_23_24_cleaned %>%\n",
    "    mutate(weekday = wday(started_at, label = TRUE)) %>%\n",
    "    group_by(user_type, weekday) %>%\n",
    "    summarise(average_duration = mean(ride_length)) %>%\n",
    "    ggplot(aes(x = weekday, y = average_duration, fill = average_duration)) + \n",
    "    geom_col() + facet_wrap(~user_type) + theme_light() + my_theme + \n",
    "    labs(title = \"Average ride duration by weekday\", x = \"Day of week\", y = \"Average ride duration (mins)\", fill = \"Average ride duration (mins)\")"
   ]
  },
  {
   "cell_type": "markdown",
   "id": "73647e8c",
   "metadata": {
    "papermill": {
     "duration": 0.02511,
     "end_time": "2024-09-25T16:15:20.228144",
     "exception": false,
     "start_time": "2024-09-25T16:15:20.203034",
     "status": "completed"
    },
    "tags": []
   },
   "source": [
    "The fifth visualization will reveal the top 10 most popular start stations for member users."
   ]
  },
  {
   "cell_type": "code",
   "execution_count": 24,
   "id": "5866d33a",
   "metadata": {
    "execution": {
     "iopub.execute_input": "2024-09-25T16:15:20.282744Z",
     "iopub.status.busy": "2024-09-25T16:15:20.280946Z",
     "iopub.status.idle": "2024-09-25T16:15:21.379244Z",
     "shell.execute_reply": "2024-09-25T16:15:21.376720Z"
    },
    "papermill": {
     "duration": 1.129141,
     "end_time": "2024-09-25T16:15:21.382146",
     "exception": false,
     "start_time": "2024-09-25T16:15:20.253005",
     "status": "completed"
    },
    "tags": []
   },
   "outputs": [
    {
     "data": {
      "text/html": [
       "<table class=\"dataframe\">\n",
       "<caption>A tibble: 10 × 3</caption>\n",
       "<thead>\n",
       "\t<tr><th scope=col>user_type</th><th scope=col>start_station_name</th><th scope=col>total_rides</th></tr>\n",
       "\t<tr><th scope=col>&lt;chr&gt;</th><th scope=col>&lt;chr&gt;</th><th scope=col>&lt;int&gt;</th></tr>\n",
       "</thead>\n",
       "<tbody>\n",
       "\t<tr><td>member</td><td><span style=white-space:pre-wrap>Broadway &amp; Barry Ave        </span></td><td>16197</td></tr>\n",
       "\t<tr><td>member</td><td><span style=white-space:pre-wrap>Clark St &amp; Elm St           </span></td><td>22583</td></tr>\n",
       "\t<tr><td>member</td><td><span style=white-space:pre-wrap>Clinton St &amp; Jackson Blvd   </span></td><td>16429</td></tr>\n",
       "\t<tr><td>member</td><td><span style=white-space:pre-wrap>Clinton St &amp; Madison St     </span></td><td>20184</td></tr>\n",
       "\t<tr><td>member</td><td>Clinton St &amp; Washington Blvd</td><td>25148</td></tr>\n",
       "\t<tr><td>member</td><td><span style=white-space:pre-wrap>Kingsbury St &amp; Kinzie St    </span></td><td>24314</td></tr>\n",
       "\t<tr><td>member</td><td><span style=white-space:pre-wrap>Loomis St &amp; Lexington St    </span></td><td>15866</td></tr>\n",
       "\t<tr><td>member</td><td><span style=white-space:pre-wrap>University Ave &amp; 57th St    </span></td><td>17370</td></tr>\n",
       "\t<tr><td>member</td><td><span style=white-space:pre-wrap>Wells St &amp; Concord Ln       </span></td><td>18507</td></tr>\n",
       "\t<tr><td>member</td><td><span style=white-space:pre-wrap>Wells St &amp; Elm St           </span></td><td>18461</td></tr>\n",
       "</tbody>\n",
       "</table>\n"
      ],
      "text/latex": [
       "A tibble: 10 × 3\n",
       "\\begin{tabular}{lll}\n",
       " user\\_type & start\\_station\\_name & total\\_rides\\\\\n",
       " <chr> & <chr> & <int>\\\\\n",
       "\\hline\n",
       "\t member & Broadway \\& Barry Ave         & 16197\\\\\n",
       "\t member & Clark St \\& Elm St            & 22583\\\\\n",
       "\t member & Clinton St \\& Jackson Blvd    & 16429\\\\\n",
       "\t member & Clinton St \\& Madison St      & 20184\\\\\n",
       "\t member & Clinton St \\& Washington Blvd & 25148\\\\\n",
       "\t member & Kingsbury St \\& Kinzie St     & 24314\\\\\n",
       "\t member & Loomis St \\& Lexington St     & 15866\\\\\n",
       "\t member & University Ave \\& 57th St     & 17370\\\\\n",
       "\t member & Wells St \\& Concord Ln        & 18507\\\\\n",
       "\t member & Wells St \\& Elm St            & 18461\\\\\n",
       "\\end{tabular}\n"
      ],
      "text/markdown": [
       "\n",
       "A tibble: 10 × 3\n",
       "\n",
       "| user_type &lt;chr&gt; | start_station_name &lt;chr&gt; | total_rides &lt;int&gt; |\n",
       "|---|---|---|\n",
       "| member | Broadway &amp; Barry Ave         | 16197 |\n",
       "| member | Clark St &amp; Elm St            | 22583 |\n",
       "| member | Clinton St &amp; Jackson Blvd    | 16429 |\n",
       "| member | Clinton St &amp; Madison St      | 20184 |\n",
       "| member | Clinton St &amp; Washington Blvd | 25148 |\n",
       "| member | Kingsbury St &amp; Kinzie St     | 24314 |\n",
       "| member | Loomis St &amp; Lexington St     | 15866 |\n",
       "| member | University Ave &amp; 57th St     | 17370 |\n",
       "| member | Wells St &amp; Concord Ln        | 18507 |\n",
       "| member | Wells St &amp; Elm St            | 18461 |\n",
       "\n"
      ],
      "text/plain": [
       "   user_type start_station_name           total_rides\n",
       "1  member    Broadway & Barry Ave         16197      \n",
       "2  member    Clark St & Elm St            22583      \n",
       "3  member    Clinton St & Jackson Blvd    16429      \n",
       "4  member    Clinton St & Madison St      20184      \n",
       "5  member    Clinton St & Washington Blvd 25148      \n",
       "6  member    Kingsbury St & Kinzie St     24314      \n",
       "7  member    Loomis St & Lexington St     15866      \n",
       "8  member    University Ave & 57th St     17370      \n",
       "9  member    Wells St & Concord Ln        18507      \n",
       "10 member    Wells St & Elm St            18461      "
      ]
     },
     "metadata": {},
     "output_type": "display_data"
    }
   ],
   "source": [
    "top_start_st_member <- cyclistic_23_24_cleaned %>%\n",
    "    filter(!is.na(start_station_name), user_type == \"member\") %>%\n",
    "    group_by(user_type, start_station_name) %>%\n",
    "    summarise(total_rides = n(), .groups = 'drop') %>%\n",
    "    top_n(10, wt = total_rides)\n",
    "top_start_st_member"
   ]
  },
  {
   "cell_type": "code",
   "execution_count": 25,
   "id": "13311cfb",
   "metadata": {
    "execution": {
     "iopub.execute_input": "2024-09-25T16:15:21.437915Z",
     "iopub.status.busy": "2024-09-25T16:15:21.436369Z",
     "iopub.status.idle": "2024-09-25T16:15:21.770193Z",
     "shell.execute_reply": "2024-09-25T16:15:21.767211Z"
    },
    "papermill": {
     "duration": 0.365572,
     "end_time": "2024-09-25T16:15:21.773921",
     "exception": false,
     "start_time": "2024-09-25T16:15:21.408349",
     "status": "completed"
    },
    "tags": []
   },
   "outputs": [
    {
     "data": {
      "image/png": "[encoded data removed]"
     },
     "metadata": {
      "image/png": {
       "height": 420,
       "width": 420
      }
     },
     "output_type": "display_data"
    }
   ],
   "source": [
    "ggplot(top_start_st_member, aes(x = reorder(start_station_name, -total_rides), y = total_rides, fill = user_type)) + \n",
    "geom_bar(stat = \"identity\", position = \"dodge\") + labs(title = \"Top 10 most popular start stations for member users\", x = \"Start station\", y = \"Number of rides\") + \n",
    "theme_light() + scale_fill_manual(values = c(\"#00BFC4\")) + my_theme + \n",
    "geom_text(aes(label = total_rides), position = position_stack(vjust = .9), color = \"black\", size = 6) + \n",
    "scale_x_discrete(labels = function(x) str_wrap(x, width = 10)) + scale_y_continuous(labels = scales::label_number(scale = .001, suffix = \"K\"), breaks = seq(0, 30000, 5000))"
   ]
  },
  {
   "cell_type": "markdown",
   "id": "54741982",
   "metadata": {
    "papermill": {
     "duration": 0.028109,
     "end_time": "2024-09-25T16:15:21.830264",
     "exception": false,
     "start_time": "2024-09-25T16:15:21.802155",
     "status": "completed"
    },
    "tags": []
   },
   "source": [
    "And the sixth visualization will reveal the top 10 most popular start stations for casual users."
   ]
  },
  {
   "cell_type": "code",
   "execution_count": 26,
   "id": "9f0ae1aa",
   "metadata": {
    "execution": {
     "iopub.execute_input": "2024-09-25T16:15:21.888180Z",
     "iopub.status.busy": "2024-09-25T16:15:21.886600Z",
     "iopub.status.idle": "2024-09-25T16:15:22.239666Z",
     "shell.execute_reply": "2024-09-25T16:15:22.237140Z"
    },
    "papermill": {
     "duration": 0.385513,
     "end_time": "2024-09-25T16:15:22.242567",
     "exception": false,
     "start_time": "2024-09-25T16:15:21.857054",
     "status": "completed"
    },
    "tags": []
   },
   "outputs": [
    {
     "data": {
      "text/html": [
       "<table class=\"dataframe\">\n",
       "<caption>A tibble: 10 × 3</caption>\n",
       "<thead>\n",
       "\t<tr><th scope=col>user_type</th><th scope=col>start_station_name</th><th scope=col>total_rides</th></tr>\n",
       "\t<tr><th scope=col>&lt;chr&gt;</th><th scope=col>&lt;chr&gt;</th><th scope=col>&lt;int&gt;</th></tr>\n",
       "</thead>\n",
       "<tbody>\n",
       "\t<tr><td>casual</td><td>Adler Planetarium                 </td><td>11956</td></tr>\n",
       "\t<tr><td>casual</td><td>DuSable Lake Shore Dr &amp; Monroe St </td><td>29098</td></tr>\n",
       "\t<tr><td>casual</td><td>DuSable Lake Shore Dr &amp; North Blvd</td><td>18921</td></tr>\n",
       "\t<tr><td>casual</td><td>Dusable Harbor                    </td><td>15044</td></tr>\n",
       "\t<tr><td>casual</td><td><span style=white-space:pre-wrap>Indiana Ave &amp; Roosevelt Rd        </span></td><td>11026</td></tr>\n",
       "\t<tr><td>casual</td><td><span style=white-space:pre-wrap>Michigan Ave &amp; Oak St             </span></td><td>21007</td></tr>\n",
       "\t<tr><td>casual</td><td>Millennium Park                   </td><td>18306</td></tr>\n",
       "\t<tr><td>casual</td><td>Shedd Aquarium                    </td><td>17547</td></tr>\n",
       "\t<tr><td>casual</td><td><span style=white-space:pre-wrap>Streeter Dr &amp; Grand Ave           </span></td><td>43720</td></tr>\n",
       "\t<tr><td>casual</td><td>Theater on the Lake               </td><td>14792</td></tr>\n",
       "</tbody>\n",
       "</table>\n"
      ],
      "text/latex": [
       "A tibble: 10 × 3\n",
       "\\begin{tabular}{lll}\n",
       " user\\_type & start\\_station\\_name & total\\_rides\\\\\n",
       " <chr> & <chr> & <int>\\\\\n",
       "\\hline\n",
       "\t casual & Adler Planetarium                  & 11956\\\\\n",
       "\t casual & DuSable Lake Shore Dr \\& Monroe St  & 29098\\\\\n",
       "\t casual & DuSable Lake Shore Dr \\& North Blvd & 18921\\\\\n",
       "\t casual & Dusable Harbor                     & 15044\\\\\n",
       "\t casual & Indiana Ave \\& Roosevelt Rd         & 11026\\\\\n",
       "\t casual & Michigan Ave \\& Oak St              & 21007\\\\\n",
       "\t casual & Millennium Park                    & 18306\\\\\n",
       "\t casual & Shedd Aquarium                     & 17547\\\\\n",
       "\t casual & Streeter Dr \\& Grand Ave            & 43720\\\\\n",
       "\t casual & Theater on the Lake                & 14792\\\\\n",
       "\\end{tabular}\n"
      ],
      "text/markdown": [
       "\n",
       "A tibble: 10 × 3\n",
       "\n",
       "| user_type &lt;chr&gt; | start_station_name &lt;chr&gt; | total_rides &lt;int&gt; |\n",
       "|---|---|---|\n",
       "| casual | Adler Planetarium                  | 11956 |\n",
       "| casual | DuSable Lake Shore Dr &amp; Monroe St  | 29098 |\n",
       "| casual | DuSable Lake Shore Dr &amp; North Blvd | 18921 |\n",
       "| casual | Dusable Harbor                     | 15044 |\n",
       "| casual | Indiana Ave &amp; Roosevelt Rd         | 11026 |\n",
       "| casual | Michigan Ave &amp; Oak St              | 21007 |\n",
       "| casual | Millennium Park                    | 18306 |\n",
       "| casual | Shedd Aquarium                     | 17547 |\n",
       "| casual | Streeter Dr &amp; Grand Ave            | 43720 |\n",
       "| casual | Theater on the Lake                | 14792 |\n",
       "\n"
      ],
      "text/plain": [
       "   user_type start_station_name                 total_rides\n",
       "1  casual    Adler Planetarium                  11956      \n",
       "2  casual    DuSable Lake Shore Dr & Monroe St  29098      \n",
       "3  casual    DuSable Lake Shore Dr & North Blvd 18921      \n",
       "4  casual    Dusable Harbor                     15044      \n",
       "5  casual    Indiana Ave & Roosevelt Rd         11026      \n",
       "6  casual    Michigan Ave & Oak St              21007      \n",
       "7  casual    Millennium Park                    18306      \n",
       "8  casual    Shedd Aquarium                     17547      \n",
       "9  casual    Streeter Dr & Grand Ave            43720      \n",
       "10 casual    Theater on the Lake                14792      "
      ]
     },
     "metadata": {},
     "output_type": "display_data"
    }
   ],
   "source": [
    "top_start_st_casual <- cyclistic_23_24_cleaned %>%\n",
    "    filter(!is.na(start_station_name), user_type == \"casual\") %>%\n",
    "    group_by(user_type, start_station_name) %>%\n",
    "    summarise(total_rides = n(), .groups = 'drop') %>%\n",
    "    top_n(10, wt = total_rides)\n",
    "top_start_st_casual"
   ]
  },
  {
   "cell_type": "code",
   "execution_count": 27,
   "id": "0c36f16e",
   "metadata": {
    "execution": {
     "iopub.execute_input": "2024-09-25T16:15:22.301719Z",
     "iopub.status.busy": "2024-09-25T16:15:22.300096Z",
     "iopub.status.idle": "2024-09-25T16:15:22.682695Z",
     "shell.execute_reply": "2024-09-25T16:15:22.680006Z"
    },
    "papermill": {
     "duration": 0.416282,
     "end_time": "2024-09-25T16:15:22.686530",
     "exception": false,
     "start_time": "2024-09-25T16:15:22.270248",
     "status": "completed"
    },
    "tags": []
   },
   "outputs": [
    {
     "data": {
      "image/png": "[encoded data removed]"
     },
     "metadata": {
      "image/png": {
       "height": 420,
       "width": 420
      }
     },
     "output_type": "display_data"
    }
   ],
   "source": [
    "ggplot(top_start_st_casual, aes(x = reorder(start_station_name, -total_rides), y = total_rides, fill = user_type)) + \n",
    "geom_bar(stat = \"identity\", position = \"dodge\") + labs(title = \"Top 10 most popular start stations for casual users\", x = \"Start station\", y = \"Number of rides\") + \n",
    "theme_light() + my_theme + geom_text(aes(label = total_rides), position = position_stack(vjust = .9), color = \"black\", size = 6) + \n",
    "scale_x_discrete(labels = function(x) str_wrap(x, width = 10)) + scale_y_continuous(labels = scales::label_number(scale = .001, suffix = \"K\"), breaks = seq(0, 46000, 10000))"
   ]
  },
  {
   "cell_type": "markdown",
   "id": "ba05ed6b",
   "metadata": {
    "papermill": {
     "duration": 0.030548,
     "end_time": "2024-09-25T16:15:22.750499",
     "exception": false,
     "start_time": "2024-09-25T16:15:22.719951",
     "status": "completed"
    },
    "tags": []
   },
   "source": [
    "KEY TAKEAWAYS:\n",
    "1. July and August are the months when both types of riders use Cyclistic the most.\n",
    "2. Casual riders tend to ride more minutes per ride.\n",
    "3. Members tend to ride more on wednesday and thursday while casual users ride more on the weekends.\n",
    "4. For casual users the top 3 most popular start stations are: Streeter Dr & Grand Ave, DuSable Lake Shore Dr & Monroe St and Michigan Ave & Oak St.\n",
    "\n",
    "NEXT STEPS:\n",
    "\n",
    "The differences found on the data are primarily that members tend to ride more during weekdays to commute to work. So, to convert more casual riders into annual members, the company marketing strategy should follow the next recommendations:\n",
    "- Some casual users could be using the bike as an alternative to commute to work. Show them how easy and flexible is cyclistic company for them.\n",
    "- Advertise near a bus or train stations where people commute to work could be a point. Highlight how much time would they save by using the bike with no waitings.\n",
    "- As summer is the maintime when riders use the bike-share company, create a marketing strategy related with the fun of riding the bike with warm weather would have an impact on users."
   ]
  }
 ],
 "metadata": {
  "kaggle": {
   "accelerator": "none",
   "dataSources": [
    {
     "datasetId": 5726384,
     "isSourceIdPinned": false,
     "sourceId": 9426696,
     "sourceType": "datasetVersion"
    }
   ],
   "dockerImageVersionId": 30749,
   "isGpuEnabled": false,
   "isInternetEnabled": false,
   "language": "r",
   "sourceType": "notebook"
  },
  "kernelspec": {
   "display_name": "R",
   "language": "R",
   "name": "ir"
  },
  "language_info": {
   "codemirror_mode": "r",
   "file_extension": ".r",
   "mimetype": "text/x-r-source",
   "name": "R",
   "pygments_lexer": "r",
   "version": "4.4.0"
  },
  "papermill": {
   "default_parameters": {},
   "duration": 379.57516,
   "end_time": "2024-09-25T16:15:23.204127",
   "environment_variables": {},
   "exception": null,
   "input_path": "__notebook__.ipynb",
   "output_path": "__notebook__.ipynb",
   "parameters": {},
   "start_time": "2024-09-25T16:09:03.628967",
   "version": "2.6.0"
  }
 },
 "nbformat": 4,
 "nbformat_minor": 5
}
